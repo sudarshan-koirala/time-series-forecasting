{
 "cells": [
  {
   "cell_type": "markdown",
   "id": "974ce380-a49b-404d-a7af-7035dbaf6f2f",
   "metadata": {},
   "source": [
    "### Time series forecasting using Facebook Prophet [GitHub link](https://github.com/facebook/prophet)"
   ]
  },
  {
   "cell_type": "code",
   "execution_count": 1,
   "id": "1282b058-7fd4-40b4-933c-0f908c5e5f50",
   "metadata": {},
   "outputs": [],
   "source": [
    "%load_ext watermark\n",
    "%load_ext lab_black\n",
    "\n",
    "# make autocomplet working\n",
    "%config Completer.use_jedi = False"
   ]
  },
  {
   "cell_type": "markdown",
   "id": "7cbc4643-1052-428a-8d25-dcd4f62254af",
   "metadata": {},
   "source": [
    "#### Import dependencies"
   ]
  },
  {
   "cell_type": "code",
   "execution_count": 2,
   "id": "12112204-a068-4518-b60c-61e9f7256750",
   "metadata": {},
   "outputs": [],
   "source": [
    "import warnings\n",
    "\n",
    "warnings.filterwarnings(\"ignore\")"
   ]
  },
  {
   "cell_type": "code",
   "execution_count": null,
   "id": "993c6c37-433e-4d77-8537-19048e247285",
   "metadata": {},
   "outputs": [],
   "source": []
  }
 ],
 "metadata": {
  "kernelspec": {
   "display_name": "Python 3",
   "language": "python",
   "name": "python3"
  },
  "language_info": {
   "codemirror_mode": {
    "name": "ipython",
    "version": 3
   },
   "file_extension": ".py",
   "mimetype": "text/x-python",
   "name": "python",
   "nbconvert_exporter": "python",
   "pygments_lexer": "ipython3",
   "version": "3.8.5"
  }
 },
 "nbformat": 4,
 "nbformat_minor": 5
}
