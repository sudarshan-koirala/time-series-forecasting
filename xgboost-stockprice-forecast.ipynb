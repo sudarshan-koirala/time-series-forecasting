{
 "cells": [
  {
   "cell_type": "markdown",
   "id": "c9469cdf",
   "metadata": {},
   "source": [
    "### XGBoost for Time Series Forecasting"
   ]
  },
  {
   "cell_type": "markdown",
   "id": "57c2da60",
   "metadata": {},
   "source": [
    "Using XGBoost (one of the variant of Boosting) for forecasting stock price. [XGBoost documentation](https://xgboost.readthedocs.io/en/latest/)\n",
    "- XGBoost is an ensemble of decision trees where new trees fix errors of the trees that are already part of the model. It is therefore, trees are added until no further improvements can be made to the model.\n",
    "- In order to use XGBoost for time series, we need to evaluate the model via `walk-forward validation` instead of `k-fold cross validation` because k-fold sometimes would have biased results."
   ]
  },
  {
   "cell_type": "markdown",
   "id": "2ee8c715",
   "metadata": {},
   "source": [
    "#### Importing Extensions and Libraries"
   ]
  },
  {
   "cell_type": "code",
   "execution_count": 1,
   "id": "cdb77dbc",
   "metadata": {},
   "outputs": [],
   "source": [
    "%load_ext autoreload\n",
    "%autoreload 2\n",
    "%load_ext watermark\n",
    "%load_ext lab_black"
   ]
  },
  {
   "cell_type": "code",
   "execution_count": 2,
   "id": "0954f5e6",
   "metadata": {},
   "outputs": [],
   "source": [
    "import os\n",
    "import time\n",
    "import numpy as np\n",
    "import pandas as pd\n",
    "import matplotlib.pyplot as plt\n",
    "from xgboost import XGBRegressor\n",
    "from sklearn.metrics import mean_squared_error\n",
    "from sklearn.model_selection import train_test_split\n",
    "\n",
    "np.random.seed(22)\n",
    "\n",
    "import warnings\n",
    "\n",
    "warnings.filterwarnings(\"ignore\")\n",
    "\n",
    "%matplotlib inline\n",
    "\n",
    "# make autocomplet working\n",
    "%config Completer.use_jedi = False"
   ]
  },
  {
   "cell_type": "code",
   "execution_count": 3,
   "id": "ead0c853",
   "metadata": {},
   "outputs": [
    {
     "name": "stdout",
     "output_type": "stream",
     "text": [
      "Python implementation: CPython\n",
      "Python version       : 3.8.5\n",
      "IPython version      : 7.22.0\n",
      "\n",
      "numpy     : 1.20.2\n",
      "pandas    : 1.2.3\n",
      "matplotlib: 3.4.1\n",
      "\n"
     ]
    }
   ],
   "source": [
    "%watermark -iv -v"
   ]
  },
  {
   "cell_type": "markdown",
   "id": "a807d6dc",
   "metadata": {},
   "source": [
    "#### Loading dataset from yahoo finance "
   ]
  },
  {
   "cell_type": "code",
   "execution_count": 4,
   "id": "de2c9ab0",
   "metadata": {},
   "outputs": [
    {
     "data": {
      "text/html": [
       "<div>\n",
       "<style scoped>\n",
       "    .dataframe tbody tr th:only-of-type {\n",
       "        vertical-align: middle;\n",
       "    }\n",
       "\n",
       "    .dataframe tbody tr th {\n",
       "        vertical-align: top;\n",
       "    }\n",
       "\n",
       "    .dataframe thead th {\n",
       "        text-align: right;\n",
       "    }\n",
       "</style>\n",
       "<table border=\"1\" class=\"dataframe\">\n",
       "  <thead>\n",
       "    <tr style=\"text-align: right;\">\n",
       "      <th></th>\n",
       "      <th>Date</th>\n",
       "      <th>Open</th>\n",
       "      <th>High</th>\n",
       "      <th>Low</th>\n",
       "      <th>Close</th>\n",
       "      <th>Adj Close</th>\n",
       "      <th>Volume</th>\n",
       "    </tr>\n",
       "  </thead>\n",
       "  <tbody>\n",
       "    <tr>\n",
       "      <th>0</th>\n",
       "      <td>2016-04-11</td>\n",
       "      <td>54.490002</td>\n",
       "      <td>55.150002</td>\n",
       "      <td>54.299999</td>\n",
       "      <td>54.310001</td>\n",
       "      <td>49.800735</td>\n",
       "      <td>21414200</td>\n",
       "    </tr>\n",
       "    <tr>\n",
       "      <th>1</th>\n",
       "      <td>2016-04-12</td>\n",
       "      <td>54.369999</td>\n",
       "      <td>54.779999</td>\n",
       "      <td>53.759998</td>\n",
       "      <td>54.650002</td>\n",
       "      <td>50.112518</td>\n",
       "      <td>24944300</td>\n",
       "    </tr>\n",
       "    <tr>\n",
       "      <th>2</th>\n",
       "      <td>2016-04-13</td>\n",
       "      <td>55.119999</td>\n",
       "      <td>55.439999</td>\n",
       "      <td>54.889999</td>\n",
       "      <td>55.349998</td>\n",
       "      <td>50.754379</td>\n",
       "      <td>20818000</td>\n",
       "    </tr>\n",
       "    <tr>\n",
       "      <th>3</th>\n",
       "      <td>2016-04-14</td>\n",
       "      <td>55.220001</td>\n",
       "      <td>55.580002</td>\n",
       "      <td>55.070000</td>\n",
       "      <td>55.360001</td>\n",
       "      <td>50.763554</td>\n",
       "      <td>20877100</td>\n",
       "    </tr>\n",
       "    <tr>\n",
       "      <th>4</th>\n",
       "      <td>2016-04-15</td>\n",
       "      <td>55.299999</td>\n",
       "      <td>55.919998</td>\n",
       "      <td>55.110001</td>\n",
       "      <td>55.650002</td>\n",
       "      <td>51.029476</td>\n",
       "      <td>28793800</td>\n",
       "    </tr>\n",
       "    <tr>\n",
       "      <th>...</th>\n",
       "      <td>...</td>\n",
       "      <td>...</td>\n",
       "      <td>...</td>\n",
       "      <td>...</td>\n",
       "      <td>...</td>\n",
       "      <td>...</td>\n",
       "      <td>...</td>\n",
       "    </tr>\n",
       "    <tr>\n",
       "      <th>1254</th>\n",
       "      <td>2021-04-05</td>\n",
       "      <td>242.759995</td>\n",
       "      <td>249.960007</td>\n",
       "      <td>242.699997</td>\n",
       "      <td>249.070007</td>\n",
       "      <td>249.070007</td>\n",
       "      <td>36910600</td>\n",
       "    </tr>\n",
       "    <tr>\n",
       "      <th>1255</th>\n",
       "      <td>2021-04-06</td>\n",
       "      <td>247.610001</td>\n",
       "      <td>249.399994</td>\n",
       "      <td>246.880005</td>\n",
       "      <td>247.860001</td>\n",
       "      <td>247.860001</td>\n",
       "      <td>22931900</td>\n",
       "    </tr>\n",
       "    <tr>\n",
       "      <th>1256</th>\n",
       "      <td>2021-04-07</td>\n",
       "      <td>247.809998</td>\n",
       "      <td>250.929993</td>\n",
       "      <td>247.190002</td>\n",
       "      <td>249.899994</td>\n",
       "      <td>249.899994</td>\n",
       "      <td>22719800</td>\n",
       "    </tr>\n",
       "    <tr>\n",
       "      <th>1257</th>\n",
       "      <td>2021-04-08</td>\n",
       "      <td>252.770004</td>\n",
       "      <td>254.139999</td>\n",
       "      <td>252.000000</td>\n",
       "      <td>253.250000</td>\n",
       "      <td>253.250000</td>\n",
       "      <td>23625200</td>\n",
       "    </tr>\n",
       "    <tr>\n",
       "      <th>1258</th>\n",
       "      <td>2021-04-09</td>\n",
       "      <td>252.869995</td>\n",
       "      <td>255.990005</td>\n",
       "      <td>252.440002</td>\n",
       "      <td>255.850006</td>\n",
       "      <td>255.850006</td>\n",
       "      <td>24315700</td>\n",
       "    </tr>\n",
       "  </tbody>\n",
       "</table>\n",
       "<p>1259 rows × 7 columns</p>\n",
       "</div>"
      ],
      "text/plain": [
       "            Date        Open        High         Low       Close   Adj Close  \\\n",
       "0     2016-04-11   54.490002   55.150002   54.299999   54.310001   49.800735   \n",
       "1     2016-04-12   54.369999   54.779999   53.759998   54.650002   50.112518   \n",
       "2     2016-04-13   55.119999   55.439999   54.889999   55.349998   50.754379   \n",
       "3     2016-04-14   55.220001   55.580002   55.070000   55.360001   50.763554   \n",
       "4     2016-04-15   55.299999   55.919998   55.110001   55.650002   51.029476   \n",
       "...          ...         ...         ...         ...         ...         ...   \n",
       "1254  2021-04-05  242.759995  249.960007  242.699997  249.070007  249.070007   \n",
       "1255  2021-04-06  247.610001  249.399994  246.880005  247.860001  247.860001   \n",
       "1256  2021-04-07  247.809998  250.929993  247.190002  249.899994  249.899994   \n",
       "1257  2021-04-08  252.770004  254.139999  252.000000  253.250000  253.250000   \n",
       "1258  2021-04-09  252.869995  255.990005  252.440002  255.850006  255.850006   \n",
       "\n",
       "        Volume  \n",
       "0     21414200  \n",
       "1     24944300  \n",
       "2     20818000  \n",
       "3     20877100  \n",
       "4     28793800  \n",
       "...        ...  \n",
       "1254  36910600  \n",
       "1255  22931900  \n",
       "1256  22719800  \n",
       "1257  23625200  \n",
       "1258  24315700  \n",
       "\n",
       "[1259 rows x 7 columns]"
      ]
     },
     "execution_count": 4,
     "metadata": {},
     "output_type": "execute_result"
    }
   ],
   "source": [
    "# data is microsoft's past 5 year daily stock price (April 10 2020 - April 10 2021)\n",
    "data_url = \"https://query1.finance.yahoo.com/v7/finance/download/MSFT?period1=1460246400&period2=1618012800&interval=1d&events=history&includeAdjustedClose=true\"\n",
    "data = pd.read_csv(data_url)\n",
    "data"
   ]
  },
  {
   "cell_type": "code",
   "execution_count": 5,
   "id": "c9f1461f",
   "metadata": {},
   "outputs": [
    {
     "name": "stdout",
     "output_type": "stream",
     "text": [
      "(1259, 1)\n"
     ]
    },
    {
     "data": {
      "text/html": [
       "<div>\n",
       "<style scoped>\n",
       "    .dataframe tbody tr th:only-of-type {\n",
       "        vertical-align: middle;\n",
       "    }\n",
       "\n",
       "    .dataframe tbody tr th {\n",
       "        vertical-align: top;\n",
       "    }\n",
       "\n",
       "    .dataframe thead th {\n",
       "        text-align: right;\n",
       "    }\n",
       "</style>\n",
       "<table border=\"1\" class=\"dataframe\">\n",
       "  <thead>\n",
       "    <tr style=\"text-align: right;\">\n",
       "      <th></th>\n",
       "      <th>Close</th>\n",
       "    </tr>\n",
       "  </thead>\n",
       "  <tbody>\n",
       "    <tr>\n",
       "      <th>0</th>\n",
       "      <td>54.31</td>\n",
       "    </tr>\n",
       "    <tr>\n",
       "      <th>1</th>\n",
       "      <td>54.65</td>\n",
       "    </tr>\n",
       "    <tr>\n",
       "      <th>2</th>\n",
       "      <td>55.35</td>\n",
       "    </tr>\n",
       "    <tr>\n",
       "      <th>3</th>\n",
       "      <td>55.36</td>\n",
       "    </tr>\n",
       "    <tr>\n",
       "      <th>4</th>\n",
       "      <td>55.65</td>\n",
       "    </tr>\n",
       "  </tbody>\n",
       "</table>\n",
       "</div>"
      ],
      "text/plain": [
       "   Close\n",
       "0  54.31\n",
       "1  54.65\n",
       "2  55.35\n",
       "3  55.36\n",
       "4  55.65"
      ]
     },
     "execution_count": 5,
     "metadata": {},
     "output_type": "execute_result"
    }
   ],
   "source": [
    "# for simplicity, I am just taking the closing price in this forecast (making it a univariate time series problem)\n",
    "df = data[[\"Close\"]].round(2).copy()\n",
    "print(df.shape)\n",
    "df.head()"
   ]
  },
  {
   "cell_type": "markdown",
   "id": "f1c14b3b",
   "metadata": {},
   "source": [
    "#### Transforming the univariate problem to a supervised problem\n",
    "For this particular problem, I am going to take the target value as the next day's stock price and drop the NaN of the last row in target column because for the last day, we don't have any shift, meaning, we don't have next days value."
   ]
  },
  {
   "cell_type": "code",
   "execution_count": 6,
   "id": "c79a1285",
   "metadata": {},
   "outputs": [
    {
     "data": {
      "text/html": [
       "<div>\n",
       "<style scoped>\n",
       "    .dataframe tbody tr th:only-of-type {\n",
       "        vertical-align: middle;\n",
       "    }\n",
       "\n",
       "    .dataframe tbody tr th {\n",
       "        vertical-align: top;\n",
       "    }\n",
       "\n",
       "    .dataframe thead th {\n",
       "        text-align: right;\n",
       "    }\n",
       "</style>\n",
       "<table border=\"1\" class=\"dataframe\">\n",
       "  <thead>\n",
       "    <tr style=\"text-align: right;\">\n",
       "      <th></th>\n",
       "      <th>Close</th>\n",
       "      <th>target</th>\n",
       "    </tr>\n",
       "  </thead>\n",
       "  <tbody>\n",
       "    <tr>\n",
       "      <th>0</th>\n",
       "      <td>54.31</td>\n",
       "      <td>54.65</td>\n",
       "    </tr>\n",
       "    <tr>\n",
       "      <th>1</th>\n",
       "      <td>54.65</td>\n",
       "      <td>55.35</td>\n",
       "    </tr>\n",
       "    <tr>\n",
       "      <th>2</th>\n",
       "      <td>55.35</td>\n",
       "      <td>55.36</td>\n",
       "    </tr>\n",
       "    <tr>\n",
       "      <th>3</th>\n",
       "      <td>55.36</td>\n",
       "      <td>55.65</td>\n",
       "    </tr>\n",
       "    <tr>\n",
       "      <th>4</th>\n",
       "      <td>55.65</td>\n",
       "      <td>56.46</td>\n",
       "    </tr>\n",
       "    <tr>\n",
       "      <th>...</th>\n",
       "      <td>...</td>\n",
       "      <td>...</td>\n",
       "    </tr>\n",
       "    <tr>\n",
       "      <th>1254</th>\n",
       "      <td>249.07</td>\n",
       "      <td>247.86</td>\n",
       "    </tr>\n",
       "    <tr>\n",
       "      <th>1255</th>\n",
       "      <td>247.86</td>\n",
       "      <td>249.90</td>\n",
       "    </tr>\n",
       "    <tr>\n",
       "      <th>1256</th>\n",
       "      <td>249.90</td>\n",
       "      <td>253.25</td>\n",
       "    </tr>\n",
       "    <tr>\n",
       "      <th>1257</th>\n",
       "      <td>253.25</td>\n",
       "      <td>255.85</td>\n",
       "    </tr>\n",
       "    <tr>\n",
       "      <th>1258</th>\n",
       "      <td>255.85</td>\n",
       "      <td>NaN</td>\n",
       "    </tr>\n",
       "  </tbody>\n",
       "</table>\n",
       "<p>1259 rows × 2 columns</p>\n",
       "</div>"
      ],
      "text/plain": [
       "       Close  target\n",
       "0      54.31   54.65\n",
       "1      54.65   55.35\n",
       "2      55.35   55.36\n",
       "3      55.36   55.65\n",
       "4      55.65   56.46\n",
       "...      ...     ...\n",
       "1254  249.07  247.86\n",
       "1255  247.86  249.90\n",
       "1256  249.90  253.25\n",
       "1257  253.25  255.85\n",
       "1258  255.85     NaN\n",
       "\n",
       "[1259 rows x 2 columns]"
      ]
     },
     "execution_count": 6,
     "metadata": {},
     "output_type": "execute_result"
    }
   ],
   "source": [
    "# adding target column\n",
    "df[\"target\"] = df.Close.shift(-1)\n",
    "df"
   ]
  },
  {
   "cell_type": "code",
   "execution_count": 7,
   "id": "b4e8b8cd",
   "metadata": {},
   "outputs": [
    {
     "name": "stdout",
     "output_type": "stream",
     "text": [
      "(1258, 2)\n"
     ]
    },
    {
     "data": {
      "text/html": [
       "<div>\n",
       "<style scoped>\n",
       "    .dataframe tbody tr th:only-of-type {\n",
       "        vertical-align: middle;\n",
       "    }\n",
       "\n",
       "    .dataframe tbody tr th {\n",
       "        vertical-align: top;\n",
       "    }\n",
       "\n",
       "    .dataframe thead th {\n",
       "        text-align: right;\n",
       "    }\n",
       "</style>\n",
       "<table border=\"1\" class=\"dataframe\">\n",
       "  <thead>\n",
       "    <tr style=\"text-align: right;\">\n",
       "      <th></th>\n",
       "      <th>Close</th>\n",
       "      <th>target</th>\n",
       "    </tr>\n",
       "  </thead>\n",
       "  <tbody>\n",
       "    <tr>\n",
       "      <th>0</th>\n",
       "      <td>54.31</td>\n",
       "      <td>54.65</td>\n",
       "    </tr>\n",
       "    <tr>\n",
       "      <th>1</th>\n",
       "      <td>54.65</td>\n",
       "      <td>55.35</td>\n",
       "    </tr>\n",
       "    <tr>\n",
       "      <th>2</th>\n",
       "      <td>55.35</td>\n",
       "      <td>55.36</td>\n",
       "    </tr>\n",
       "    <tr>\n",
       "      <th>3</th>\n",
       "      <td>55.36</td>\n",
       "      <td>55.65</td>\n",
       "    </tr>\n",
       "    <tr>\n",
       "      <th>4</th>\n",
       "      <td>55.65</td>\n",
       "      <td>56.46</td>\n",
       "    </tr>\n",
       "  </tbody>\n",
       "</table>\n",
       "</div>"
      ],
      "text/plain": [
       "   Close  target\n",
       "0  54.31   54.65\n",
       "1  54.65   55.35\n",
       "2  55.35   55.36\n",
       "3  55.36   55.65\n",
       "4  55.65   56.46"
      ]
     },
     "execution_count": 7,
     "metadata": {},
     "output_type": "execute_result"
    }
   ],
   "source": [
    "# drop the NaN values in the last row in target column\n",
    "df.dropna(inplace=True)\n",
    "print(df.shape)\n",
    "df.head()"
   ]
  },
  {
   "cell_type": "markdown",
   "id": "53f38faa",
   "metadata": {},
   "source": [
    "#### Splitting the dataset into train and test dataset\n",
    "Generally we split data as dependent and independent but here I am splitting the dataset which includes both values."
   ]
  },
  {
   "cell_type": "code",
   "execution_count": 8,
   "id": "fd14801a",
   "metadata": {},
   "outputs": [],
   "source": [
    "# custom function for train test split\n",
    "def train_test_split(data, perc):\n",
    "    data = data.values\n",
    "    n = int(len(data) * (1 - perc))\n",
    "    return data[:n], data[n:]"
   ]
  },
  {
   "cell_type": "code",
   "execution_count": 9,
   "id": "20d709ec",
   "metadata": {},
   "outputs": [],
   "source": [
    "# 80-20 split of data into train and test respectively\n",
    "train, test = train_test_split(df, 0.2)"
   ]
  },
  {
   "cell_type": "code",
   "execution_count": 10,
   "id": "51d839f1",
   "metadata": {},
   "outputs": [
    {
     "name": "stdout",
     "output_type": "stream",
     "text": [
      "1258\n",
      "1006\n",
      "252\n"
     ]
    }
   ],
   "source": [
    "print(len(df))\n",
    "print(len(train))\n",
    "print(len(test))"
   ]
  },
  {
   "cell_type": "code",
   "execution_count": 11,
   "id": "d866a028",
   "metadata": {},
   "outputs": [
    {
     "data": {
      "text/plain": [
       "((1258, 2), (1006, 2), (252, 2))"
      ]
     },
     "execution_count": 11,
     "metadata": {},
     "output_type": "execute_result"
    }
   ],
   "source": [
    "df.shape, train.shape, test.shape"
   ]
  },
  {
   "cell_type": "markdown",
   "id": "87ea839a",
   "metadata": {},
   "source": [
    "#### Training with XGBRegressor\n",
    "I am going to use XGBRegressor model to train and predict based on that. It is the implementation of the scikit-learn API for XGBoost regression."
   ]
  },
  {
   "cell_type": "code",
   "execution_count": 12,
   "id": "931042c1",
   "metadata": {},
   "outputs": [],
   "source": [
    "# lets split the train as dependent and independent to fit into the model\n",
    "X_train = train[:, :-1]\n",
    "y_train = train[:, -1]"
   ]
  },
  {
   "cell_type": "code",
   "execution_count": 13,
   "id": "3d57f2ad",
   "metadata": {},
   "outputs": [
    {
     "data": {
      "text/plain": [
       "((1006, 1), (1006,))"
      ]
     },
     "execution_count": 13,
     "metadata": {},
     "output_type": "execute_result"
    }
   ],
   "source": [
    "X_train.shape, y_train.shape"
   ]
  },
  {
   "cell_type": "code",
   "execution_count": 14,
   "id": "0a026934",
   "metadata": {},
   "outputs": [],
   "source": [
    "# XGBRegressor??"
   ]
  },
  {
   "cell_type": "code",
   "execution_count": 15,
   "id": "9e9c45c2",
   "metadata": {},
   "outputs": [
    {
     "name": "stdout",
     "output_type": "stream",
     "text": [
      "CPU times: user 6.12 s, sys: 0 ns, total: 6.12 s\n",
      "Wall time: 1.07 s\n"
     ]
    },
    {
     "data": {
      "text/plain": [
       "XGBRegressor(base_score=0.5, booster='gbtree', colsample_bylevel=1,\n",
       "             colsample_bynode=1, colsample_bytree=1, gamma=0, gpu_id=-1,\n",
       "             importance_type='gain', interaction_constraints='',\n",
       "             learning_rate=0.300000012, max_delta_step=0, max_depth=6,\n",
       "             min_child_weight=1, missing=nan, monotone_constraints='()',\n",
       "             n_estimators=1000, n_jobs=-1, num_parallel_tree=1, random_state=0,\n",
       "             reg_alpha=0, reg_lambda=1, scale_pos_weight=1, subsample=1,\n",
       "             tree_method='exact', validate_parameters=1, verbosity=None)"
      ]
     },
     "execution_count": 15,
     "metadata": {},
     "output_type": "execute_result"
    }
   ],
   "source": [
    "%%time\n",
    "# using 100 trees and all cpu cores\n",
    "model = XGBRegressor(n_estimators=1000, n_jobs=-1)\n",
    "model.fit(X_train, y_train)"
   ]
  },
  {
   "cell_type": "markdown",
   "id": "d0b0d7d2",
   "metadata": {},
   "source": [
    "#### Prediction"
   ]
  },
  {
   "cell_type": "code",
   "execution_count": 16,
   "id": "5a86b30a",
   "metadata": {},
   "outputs": [
    {
     "data": {
      "text/plain": [
       "array([165.13, 165.14])"
      ]
     },
     "execution_count": 16,
     "metadata": {},
     "output_type": "execute_result"
    }
   ],
   "source": [
    "# lets take one of the test data\n",
    "test[0]"
   ]
  },
  {
   "cell_type": "code",
   "execution_count": 17,
   "id": "db32b4ee",
   "metadata": {},
   "outputs": [
    {
     "data": {
      "text/plain": [
       "array([[165.13]])"
      ]
     },
     "execution_count": 17,
     "metadata": {},
     "output_type": "execute_result"
    }
   ],
   "source": [
    "# we need to pass the first array and the model should predict the second array as we have our dataset maintained in this way. lets extract that as variable val.\n",
    "val = np.array(test[0, 0]).reshape(1, -1)\n",
    "val"
   ]
  },
  {
   "cell_type": "code",
   "execution_count": 18,
   "id": "8741608e",
   "metadata": {},
   "outputs": [
    {
     "data": {
      "text/plain": [
       "162.29034"
      ]
     },
     "execution_count": 18,
     "metadata": {},
     "output_type": "execute_result"
    }
   ],
   "source": [
    "# now, lets predict the next day's stock based on the val value. the model must predict 224.97\n",
    "pred = model.predict(val)\n",
    "pred[0]"
   ]
  },
  {
   "cell_type": "markdown",
   "id": "a51d1893",
   "metadata": {},
   "source": [
    "Its not close as the value differs almost 3 dollars.\n",
    "\n",
    "**Now the next step would be to use Walk-forward validation to make the prediction more correct**"
   ]
  },
  {
   "cell_type": "markdown",
   "id": "42bbbad3",
   "metadata": {},
   "source": [
    "#### Walk-forward Validation\n",
    "- In timeseries, as we make one step forward prediction, in our case one day prediciton, we will predict the first record in the test dataset first\n",
    "- After predicting the first row of test dataset, we add real observation from the test dataset to the train dataset, refit the model and predict the next one in the test dataset.\n",
    "- RMSE metric from scikit-learn is used for evaluation"
   ]
  },
  {
   "cell_type": "code",
   "execution_count": 19,
   "id": "0d2d1d3f",
   "metadata": {},
   "outputs": [],
   "source": [
    "# lets create a function for the above prediction to predict one sample at a time\n",
    "def xgb_predict(train, val):\n",
    "    train = np.array(train)\n",
    "    X_train, y_train = train[:, :-1], train[:, -1]\n",
    "    model = XGBRegressor(n_estimators=1000, n_jobs=1)\n",
    "    model.fit(X_train, y_train)\n",
    "\n",
    "    val = np.array(val).reshape(1, -1)\n",
    "    pred = model.predict(val)\n",
    "    return pred[0]"
   ]
  },
  {
   "cell_type": "code",
   "execution_count": 20,
   "id": "32bbda48",
   "metadata": {},
   "outputs": [],
   "source": [
    "# now, lets create a function for walk-forward validation\n",
    "def validate(dataset, perc):\n",
    "    predictions = []\n",
    "    train, test = train_test_split(dataset, perc)\n",
    "    history = [x for x in train]\n",
    "\n",
    "    for i in range(len(test)):\n",
    "        X_test, y_test = test[i, :-1], test[i, -1]\n",
    "\n",
    "        pred = xgb_predict(history, X_test[0])\n",
    "        predictions.append(pred)\n",
    "        history.append(test[i])\n",
    "\n",
    "    error = mean_squared_error(test[:, -1], predictions, squared=False)\n",
    "\n",
    "    return error, test[:, -1], predictions"
   ]
  },
  {
   "cell_type": "code",
   "execution_count": 21,
   "id": "393adc93",
   "metadata": {},
   "outputs": [
    {
     "name": "stdout",
     "output_type": "stream",
     "text": [
      "CPU times: user 2min 37s, sys: 0 ns, total: 2min 37s\n",
      "Wall time: 2min 37s\n"
     ]
    }
   ],
   "source": [
    "%%time\n",
    "rmse, y, pred = validate(df, 0.2)"
   ]
  },
  {
   "cell_type": "code",
   "execution_count": 22,
   "id": "dd3b2531",
   "metadata": {},
   "outputs": [
    {
     "data": {
      "text/plain": [
       "5.755341290843571"
      ]
     },
     "execution_count": 22,
     "metadata": {},
     "output_type": "execute_result"
    }
   ],
   "source": [
    "rmse"
   ]
  },
  {
   "cell_type": "code",
   "execution_count": 23,
   "id": "d6faa105",
   "metadata": {},
   "outputs": [
    {
     "data": {
      "text/plain": [
       "array([165.14, 165.51, 173.7 , 171.88, 177.04, 178.6 , 175.06, 167.82,\n",
       "       173.52, 171.42, 174.55, 174.05, 169.81, 177.43, 179.21, 174.57,\n",
       "       178.84, 180.76, 182.54, 183.6 , 184.68, 186.74, 182.51, 179.75,\n",
       "       180.53, 183.16, 184.91, 183.63, 185.66, 183.43, 183.51, 181.57,\n",
       "       181.81, 181.4 , 183.25, 182.83, 184.91, 185.36, 182.92, 187.2 ,\n",
       "       188.36, 189.8 , 196.84, 186.27, 187.74, 188.94, 193.57, 194.24,\n",
       "       196.32, 195.15, 200.57, 201.91, 197.84, 200.34, 196.33, 198.44,\n",
       "       203.51, 204.7 , 206.26, 210.7 , 208.25, 212.83, 214.32, 213.67,\n",
       "       207.07, 208.35, 208.04, 203.92, 202.88, 211.6 , 208.75, 211.75,\n",
       "       202.54, 201.3 , 203.85, 202.02, 204.06, 203.9 , 205.01, 216.54,\n",
       "       213.29, 212.94, 216.35, 212.48, 208.25, 203.38, 209.19, 208.7 ,\n",
       "       208.9 , 210.28, 211.49, 209.7 , 214.58, 213.02, 213.69, 216.47,\n",
       "       221.15, 226.58, 228.91, 225.53, 227.27, 231.65, 217.3 , 214.25,\n",
       "       202.66, 211.29, 205.37, 204.03, 205.41, 208.78, 205.05, 202.91,\n",
       "       200.39, 202.54, 207.42, 200.59, 203.19, 207.82, 209.44, 207.26,\n",
       "       210.33, 212.46, 206.19, 210.38, 205.91, 209.83, 210.58, 215.81,\n",
       "       221.4 , 222.86, 220.86, 219.66, 219.66, 214.22, 214.65, 214.8 ,\n",
       "       214.89, 216.23, 210.08, 213.25, 202.68, 204.72, 202.47, 202.33,\n",
       "       206.43, 216.39, 223.29, 223.72, 218.39, 211.01, 216.55, 215.44,\n",
       "       216.51, 217.23, 214.46, 211.08, 212.42, 210.39, 210.11, 213.86,\n",
       "       213.87, 215.23, 214.07, 216.21, 215.37, 214.24, 214.36, 214.29,\n",
       "       216.01, 211.8 , 210.52, 213.26, 214.2 , 214.13, 219.28, 219.42,\n",
       "       218.59, 222.59, 223.94, 221.02, 222.75, 224.96, 224.15, 221.68,\n",
       "       222.42, 217.69, 217.9 , 212.25, 218.29, 219.62, 217.49, 214.93,\n",
       "       216.34, 213.02, 212.65, 216.44, 224.34, 224.97, 225.95, 229.53,\n",
       "       232.33, 232.9 , 238.93, 231.96, 239.65, 239.51, 243.  , 242.01,\n",
       "       242.2 , 242.47, 243.77, 242.82, 244.49, 244.99, 243.7 , 244.2 ,\n",
       "       243.79, 240.97, 234.51, 233.27, 234.55, 228.99, 232.38, 236.94,\n",
       "       233.87, 227.56, 226.73, 231.6 , 227.39, 233.78, 232.42, 237.13,\n",
       "       235.75, 234.81, 237.71, 237.04, 230.72, 230.35, 235.99, 237.58,\n",
       "       235.46, 232.34, 236.48, 235.24, 231.85, 235.77, 242.35, 249.07,\n",
       "       247.86, 249.9 , 253.25, 255.85])"
      ]
     },
     "execution_count": 23,
     "metadata": {},
     "output_type": "execute_result"
    }
   ],
   "source": [
    "y"
   ]
  },
  {
   "cell_type": "code",
   "execution_count": 27,
   "id": "8fbe7dbf",
   "metadata": {},
   "outputs": [
    {
     "data": {
      "text/plain": [
       "array([162.29034, 165.13068, 168.02562, 180.11336, 170.21933, 170.8971 ,\n",
       "       170.89839, 180.10664, 172.76816, 171.87741, 177.02258, 180.10957,\n",
       "       180.10559, 158.18912, 178.5929 , 175.05698, 174.04736, 175.05089,\n",
       "       179.90991, 183.89334, 183.89748, 183.71375, 187.27536, 183.5983 ,\n",
       "       183.62088, 182.53027, 184.67363, 183.71602, 183.8991 , 187.22154,\n",
       "       184.6882 , 183.5247 , 182.53796, 181.80783, 181.80844, 184.89937,\n",
       "       183.60004, 183.6379 , 187.22168, 184.90533, 187.26846, 184.44022,\n",
       "       184.44356, 196.8357 , 182.5174 , 184.43224, 184.44499, 186.27078,\n",
       "       194.24089, 186.27464, 196.31168, 186.27466, 201.905  , 186.27919,\n",
       "       201.90355, 195.15099, 200.33235, 197.84314, 204.69504, 206.25691,\n",
       "       210.69498, 210.69467, 208.2522 , 214.31546, 213.67407, 210.69902,\n",
       "       212.82364, 212.82166, 204.69786, 204.68613, 208.25047, 208.04907,\n",
       "       208.74904, 211.5864 , 197.85661, 202.89143, 197.85518, 202.8797 ,\n",
       "       202.88177, 206.26154, 213.66449, 207.08072, 214.30763, 213.28987,\n",
       "       214.31825, 212.81848, 204.7028 , 211.74017, 211.73534, 211.7369 ,\n",
       "       208.2627 , 208.73755, 208.71387, 213.6634 , 216.3383 , 207.08452,\n",
       "       213.29044, 213.29579, 226.5749 , 228.90634, 228.90054, 228.90607,\n",
       "       225.53195, 213.30315, 213.66977, 201.31892, 209.68822, 216.5199 ,\n",
       "       203.88347, 204.05057, 211.72765, 216.5193 , 211.56439, 196.346  ,\n",
       "       201.32562, 208.34996, 201.92645, 209.15643, 203.92198, 208.71063,\n",
       "       200.61172, 211.4932 , 208.23827, 210.68169, 212.44545, 210.37863,\n",
       "       214.56053, 208.23494, 212.48936, 226.57346, 222.87006, 226.57085,\n",
       "       219.66298, 219.66068, 202.67464, 213.03397, 214.79797, 214.89053,\n",
       "       212.4992 , 211.48497, 212.94048, 211.28928, 206.26624, 204.36711,\n",
       "       202.36552, 210.68323, 212.48026, 220.873  , 223.7173 , 214.25208,\n",
       "       205.40144, 213.30492, 221.37737, 213.3033 , 214.24731, 213.0472 ,\n",
       "       216.51987, 206.18777, 205.9375 , 213.21243, 216.44748, 213.89185,\n",
       "       216.50594, 214.65833, 210.09546, 216.51341, 202.68297, 213.64795,\n",
       "       213.66563, 221.3846 , 202.57167, 215.77863, 202.7155 , 214.64949,\n",
       "       216.18428, 216.93697, 219.40533, 211.02646, 220.87279, 218.40936,\n",
       "       226.56424, 220.87743, 227.27202, 221.02151, 222.87027, 223.93541,\n",
       "       214.25473, 217.87338, 210.38351, 211.03119, 216.94574, 214.27419,\n",
       "       216.20691, 212.48486, 213.68088, 208.25186, 221.14401, 221.6717 ,\n",
       "       224.16412, 227.27441, 225.52872, 217.3084 , 232.89195, 238.92453,\n",
       "       217.314  , 231.96243, 239.5051 , 239.5108 , 242.00398, 242.19147,\n",
       "       242.45982, 242.01016, 242.02048, 242.82022, 244.9836 , 242.82251,\n",
       "       244.98059, 242.83614, 242.2028 , 238.90967, 238.9129 , 233.26747,\n",
       "       225.54802, 232.92174, 231.9623 , 234.55005, 231.62347, 228.92967,\n",
       "       217.32469, 231.63501, 227.58385, 236.93678, 233.84201, 233.86638,\n",
       "       229.00581, 235.73276, 235.74876, 227.38582, 230.35252, 234.81114,\n",
       "       237.0234 , 234.82758, 232.92651, 233.87144, 232.36523, 239.6259 ,\n",
       "       234.81078, 243.76868, 243.7016 , 247.8523 , 247.86882, 253.24156],\n",
       "      dtype=float32)"
      ]
     },
     "execution_count": 27,
     "metadata": {},
     "output_type": "execute_result"
    }
   ],
   "source": [
    "# lets print as array to make the list not go long in notebook\n",
    "np.array(pred)"
   ]
  },
  {
   "cell_type": "markdown",
   "id": "d6533d72",
   "metadata": {},
   "source": [
    "#### Conclusion\n",
    "- The `rmse` value is not that bad but we can improve if needed by using better models.\n",
    "- I just predicted the model with using `close price`but in real scenario, people generally use all other columns shown in the dataset and also other sources that can add value to the model as stock market is complex and needs many useful considerations.\n",
    "- In real life scenario, this model is not suitable for for testing, it gives a overall idea how to do timeseries forecasting using XGBoost."
   ]
  },
  {
   "cell_type": "code",
   "execution_count": null,
   "id": "e993507b",
   "metadata": {},
   "outputs": [],
   "source": []
  }
 ],
 "metadata": {
  "kernelspec": {
   "display_name": "Python 3",
   "language": "python",
   "name": "python3"
  },
  "language_info": {
   "codemirror_mode": {
    "name": "ipython",
    "version": 3
   },
   "file_extension": ".py",
   "mimetype": "text/x-python",
   "name": "python",
   "nbconvert_exporter": "python",
   "pygments_lexer": "ipython3",
   "version": "3.8.5"
  }
 },
 "nbformat": 4,
 "nbformat_minor": 5
}
