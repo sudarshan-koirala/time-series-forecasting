{
 "cells": [
  {
   "cell_type": "markdown",
   "id": "4fba73f4",
   "metadata": {},
   "source": [
    "### XGBoost for Time Series Forecasting"
   ]
  },
  {
   "cell_type": "markdown",
   "id": "6b0719e0",
   "metadata": {},
   "source": [
    "Using XGBoost (one of the variant of Boosting) for forecasting stock price. [XGBoost documentation](https://xgboost.readthedocs.io/en/latest/)\n",
    "- XGBoost is an ensemble of decision trees where new trees fix errors of the trees that are already part of the model. It is therefore, trees are added until no further improvements can be made to the model.\n",
    "- In order to use XGBoost for time series, we need to evaluate the model via `walk-forward validation` instead of `k-fold cross validation` because k-fold sometimes would have biased results."
   ]
  },
  {
   "cell_type": "markdown",
   "id": "f9f00080",
   "metadata": {},
   "source": [
    "#### Importing Extensions and Libraries"
   ]
  },
  {
   "cell_type": "code",
   "execution_count": 1,
   "id": "9ca17b05",
   "metadata": {},
   "outputs": [],
   "source": [
    "%load_ext autoreload\n",
    "%autoreload 2\n",
    "%load_ext watermark\n",
    "%load_ext lab_black"
   ]
  },
  {
   "cell_type": "code",
   "execution_count": 2,
   "id": "22c74d74",
   "metadata": {},
   "outputs": [],
   "source": [
    "import os\n",
    "import time\n",
    "import numpy as np\n",
    "import pandas as pd\n",
    "import matplotlib.pyplot as plt\n",
    "from xgboost import XGBRegressor\n",
    "from sklearn.metrics import mean_squared_error\n",
    "from sklearn.model_selection import train_test_split\n",
    "\n",
    "np.random.seed(22)\n",
    "\n",
    "import warnings\n",
    "\n",
    "warnings.filterwarnings(\"ignore\")\n",
    "\n",
    "%matplotlib inline\n",
    "\n",
    "# make autocomplet working\n",
    "%config Completer.use_jedi = False"
   ]
  },
  {
   "cell_type": "code",
   "execution_count": 3,
   "id": "41a7eef5",
   "metadata": {},
   "outputs": [
    {
     "name": "stdout",
     "output_type": "stream",
     "text": [
      "Python implementation: CPython\n",
      "Python version       : 3.8.5\n",
      "IPython version      : 7.22.0\n",
      "\n",
      "matplotlib: 3.4.1\n",
      "numpy     : 1.20.2\n",
      "pandas    : 1.2.3\n",
      "\n"
     ]
    }
   ],
   "source": [
    "%watermark -iv -v"
   ]
  },
  {
   "cell_type": "markdown",
   "id": "51be5f3b",
   "metadata": {},
   "source": [
    "#### Loading dataset from yahoo finance "
   ]
  },
  {
   "cell_type": "code",
   "execution_count": 4,
   "id": "b4a327ef",
   "metadata": {},
   "outputs": [
    {
     "data": {
      "text/html": [
       "<div>\n",
       "<style scoped>\n",
       "    .dataframe tbody tr th:only-of-type {\n",
       "        vertical-align: middle;\n",
       "    }\n",
       "\n",
       "    .dataframe tbody tr th {\n",
       "        vertical-align: top;\n",
       "    }\n",
       "\n",
       "    .dataframe thead th {\n",
       "        text-align: right;\n",
       "    }\n",
       "</style>\n",
       "<table border=\"1\" class=\"dataframe\">\n",
       "  <thead>\n",
       "    <tr style=\"text-align: right;\">\n",
       "      <th></th>\n",
       "      <th>Date</th>\n",
       "      <th>Open</th>\n",
       "      <th>High</th>\n",
       "      <th>Low</th>\n",
       "      <th>Close</th>\n",
       "      <th>Adj Close</th>\n",
       "      <th>Volume</th>\n",
       "    </tr>\n",
       "  </thead>\n",
       "  <tbody>\n",
       "    <tr>\n",
       "      <th>0</th>\n",
       "      <td>2020-04-03</td>\n",
       "      <td>155.100006</td>\n",
       "      <td>157.380005</td>\n",
       "      <td>152.190002</td>\n",
       "      <td>153.830002</td>\n",
       "      <td>152.282501</td>\n",
       "      <td>41243300</td>\n",
       "    </tr>\n",
       "    <tr>\n",
       "      <th>1</th>\n",
       "      <td>2020-04-06</td>\n",
       "      <td>160.320007</td>\n",
       "      <td>166.500000</td>\n",
       "      <td>157.580002</td>\n",
       "      <td>165.270004</td>\n",
       "      <td>163.607422</td>\n",
       "      <td>67111700</td>\n",
       "    </tr>\n",
       "    <tr>\n",
       "      <th>2</th>\n",
       "      <td>2020-04-07</td>\n",
       "      <td>169.589996</td>\n",
       "      <td>170.000000</td>\n",
       "      <td>163.259995</td>\n",
       "      <td>163.490005</td>\n",
       "      <td>161.845322</td>\n",
       "      <td>62769000</td>\n",
       "    </tr>\n",
       "    <tr>\n",
       "      <th>3</th>\n",
       "      <td>2020-04-08</td>\n",
       "      <td>165.669998</td>\n",
       "      <td>166.669998</td>\n",
       "      <td>163.500000</td>\n",
       "      <td>165.130005</td>\n",
       "      <td>163.468811</td>\n",
       "      <td>48318200</td>\n",
       "    </tr>\n",
       "    <tr>\n",
       "      <th>4</th>\n",
       "      <td>2020-04-09</td>\n",
       "      <td>166.360001</td>\n",
       "      <td>167.369995</td>\n",
       "      <td>163.330002</td>\n",
       "      <td>165.139999</td>\n",
       "      <td>163.478729</td>\n",
       "      <td>51431800</td>\n",
       "    </tr>\n",
       "    <tr>\n",
       "      <th>...</th>\n",
       "      <td>...</td>\n",
       "      <td>...</td>\n",
       "      <td>...</td>\n",
       "      <td>...</td>\n",
       "      <td>...</td>\n",
       "      <td>...</td>\n",
       "      <td>...</td>\n",
       "    </tr>\n",
       "    <tr>\n",
       "      <th>246</th>\n",
       "      <td>2021-03-26</td>\n",
       "      <td>231.550003</td>\n",
       "      <td>236.710007</td>\n",
       "      <td>231.550003</td>\n",
       "      <td>236.479996</td>\n",
       "      <td>236.479996</td>\n",
       "      <td>25471700</td>\n",
       "    </tr>\n",
       "    <tr>\n",
       "      <th>247</th>\n",
       "      <td>2021-03-29</td>\n",
       "      <td>236.589996</td>\n",
       "      <td>236.800003</td>\n",
       "      <td>231.880005</td>\n",
       "      <td>235.240005</td>\n",
       "      <td>235.240005</td>\n",
       "      <td>25227500</td>\n",
       "    </tr>\n",
       "    <tr>\n",
       "      <th>248</th>\n",
       "      <td>2021-03-30</td>\n",
       "      <td>233.529999</td>\n",
       "      <td>233.850006</td>\n",
       "      <td>231.100006</td>\n",
       "      <td>231.850006</td>\n",
       "      <td>231.850006</td>\n",
       "      <td>24792000</td>\n",
       "    </tr>\n",
       "    <tr>\n",
       "      <th>249</th>\n",
       "      <td>2021-03-31</td>\n",
       "      <td>232.910004</td>\n",
       "      <td>239.100006</td>\n",
       "      <td>232.389999</td>\n",
       "      <td>235.770004</td>\n",
       "      <td>235.770004</td>\n",
       "      <td>43623500</td>\n",
       "    </tr>\n",
       "    <tr>\n",
       "      <th>250</th>\n",
       "      <td>2021-04-01</td>\n",
       "      <td>238.470001</td>\n",
       "      <td>242.839996</td>\n",
       "      <td>238.050003</td>\n",
       "      <td>242.350006</td>\n",
       "      <td>242.350006</td>\n",
       "      <td>30312000</td>\n",
       "    </tr>\n",
       "  </tbody>\n",
       "</table>\n",
       "<p>251 rows × 7 columns</p>\n",
       "</div>"
      ],
      "text/plain": [
       "           Date        Open        High         Low       Close   Adj Close  \\\n",
       "0    2020-04-03  155.100006  157.380005  152.190002  153.830002  152.282501   \n",
       "1    2020-04-06  160.320007  166.500000  157.580002  165.270004  163.607422   \n",
       "2    2020-04-07  169.589996  170.000000  163.259995  163.490005  161.845322   \n",
       "3    2020-04-08  165.669998  166.669998  163.500000  165.130005  163.468811   \n",
       "4    2020-04-09  166.360001  167.369995  163.330002  165.139999  163.478729   \n",
       "..          ...         ...         ...         ...         ...         ...   \n",
       "246  2021-03-26  231.550003  236.710007  231.550003  236.479996  236.479996   \n",
       "247  2021-03-29  236.589996  236.800003  231.880005  235.240005  235.240005   \n",
       "248  2021-03-30  233.529999  233.850006  231.100006  231.850006  231.850006   \n",
       "249  2021-03-31  232.910004  239.100006  232.389999  235.770004  235.770004   \n",
       "250  2021-04-01  238.470001  242.839996  238.050003  242.350006  242.350006   \n",
       "\n",
       "       Volume  \n",
       "0    41243300  \n",
       "1    67111700  \n",
       "2    62769000  \n",
       "3    48318200  \n",
       "4    51431800  \n",
       "..        ...  \n",
       "246  25471700  \n",
       "247  25227500  \n",
       "248  24792000  \n",
       "249  43623500  \n",
       "250  30312000  \n",
       "\n",
       "[251 rows x 7 columns]"
      ]
     },
     "execution_count": 4,
     "metadata": {},
     "output_type": "execute_result"
    }
   ],
   "source": [
    "# data is microsoft's past 1 year daily stock price (April 3 2020 - April 1 2021)\n",
    "data_url = \"https://query1.finance.yahoo.com/v7/finance/download/MSFT?period1=1585908430&period2=1617444430&interval=1d&events=history&includeAdjustedClose=true\"\n",
    "data = pd.read_csv(data_url)\n",
    "data"
   ]
  },
  {
   "cell_type": "code",
   "execution_count": 5,
   "id": "2f29064a",
   "metadata": {},
   "outputs": [
    {
     "name": "stdout",
     "output_type": "stream",
     "text": [
      "(251, 1)\n"
     ]
    },
    {
     "data": {
      "text/html": [
       "<div>\n",
       "<style scoped>\n",
       "    .dataframe tbody tr th:only-of-type {\n",
       "        vertical-align: middle;\n",
       "    }\n",
       "\n",
       "    .dataframe tbody tr th {\n",
       "        vertical-align: top;\n",
       "    }\n",
       "\n",
       "    .dataframe thead th {\n",
       "        text-align: right;\n",
       "    }\n",
       "</style>\n",
       "<table border=\"1\" class=\"dataframe\">\n",
       "  <thead>\n",
       "    <tr style=\"text-align: right;\">\n",
       "      <th></th>\n",
       "      <th>Close</th>\n",
       "    </tr>\n",
       "  </thead>\n",
       "  <tbody>\n",
       "    <tr>\n",
       "      <th>0</th>\n",
       "      <td>153.83</td>\n",
       "    </tr>\n",
       "    <tr>\n",
       "      <th>1</th>\n",
       "      <td>165.27</td>\n",
       "    </tr>\n",
       "    <tr>\n",
       "      <th>2</th>\n",
       "      <td>163.49</td>\n",
       "    </tr>\n",
       "    <tr>\n",
       "      <th>3</th>\n",
       "      <td>165.13</td>\n",
       "    </tr>\n",
       "    <tr>\n",
       "      <th>4</th>\n",
       "      <td>165.14</td>\n",
       "    </tr>\n",
       "  </tbody>\n",
       "</table>\n",
       "</div>"
      ],
      "text/plain": [
       "    Close\n",
       "0  153.83\n",
       "1  165.27\n",
       "2  163.49\n",
       "3  165.13\n",
       "4  165.14"
      ]
     },
     "execution_count": 5,
     "metadata": {},
     "output_type": "execute_result"
    }
   ],
   "source": [
    "# for simplicity, I am just taking the closing price in this forecast (making it a univariate time series problem)\n",
    "df = data[[\"Close\"]].round(2).copy()\n",
    "print(df.shape)\n",
    "df.head()"
   ]
  },
  {
   "cell_type": "markdown",
   "id": "d12dc715",
   "metadata": {},
   "source": [
    "#### Transforming the univariate problem to a supervised problem\n",
    "For this particular problem, I am going to take the target value as the next day's stock price and drop the NaN of the last row in target column because for the last day, we don't have any shift, meaning, we don't have next days value."
   ]
  },
  {
   "cell_type": "code",
   "execution_count": 6,
   "id": "d02a31dd",
   "metadata": {},
   "outputs": [
    {
     "data": {
      "text/html": [
       "<div>\n",
       "<style scoped>\n",
       "    .dataframe tbody tr th:only-of-type {\n",
       "        vertical-align: middle;\n",
       "    }\n",
       "\n",
       "    .dataframe tbody tr th {\n",
       "        vertical-align: top;\n",
       "    }\n",
       "\n",
       "    .dataframe thead th {\n",
       "        text-align: right;\n",
       "    }\n",
       "</style>\n",
       "<table border=\"1\" class=\"dataframe\">\n",
       "  <thead>\n",
       "    <tr style=\"text-align: right;\">\n",
       "      <th></th>\n",
       "      <th>Close</th>\n",
       "      <th>target</th>\n",
       "    </tr>\n",
       "  </thead>\n",
       "  <tbody>\n",
       "    <tr>\n",
       "      <th>0</th>\n",
       "      <td>153.83</td>\n",
       "      <td>165.27</td>\n",
       "    </tr>\n",
       "    <tr>\n",
       "      <th>1</th>\n",
       "      <td>165.27</td>\n",
       "      <td>163.49</td>\n",
       "    </tr>\n",
       "    <tr>\n",
       "      <th>2</th>\n",
       "      <td>163.49</td>\n",
       "      <td>165.13</td>\n",
       "    </tr>\n",
       "    <tr>\n",
       "      <th>3</th>\n",
       "      <td>165.13</td>\n",
       "      <td>165.14</td>\n",
       "    </tr>\n",
       "    <tr>\n",
       "      <th>4</th>\n",
       "      <td>165.14</td>\n",
       "      <td>165.51</td>\n",
       "    </tr>\n",
       "    <tr>\n",
       "      <th>...</th>\n",
       "      <td>...</td>\n",
       "      <td>...</td>\n",
       "    </tr>\n",
       "    <tr>\n",
       "      <th>246</th>\n",
       "      <td>236.48</td>\n",
       "      <td>235.24</td>\n",
       "    </tr>\n",
       "    <tr>\n",
       "      <th>247</th>\n",
       "      <td>235.24</td>\n",
       "      <td>231.85</td>\n",
       "    </tr>\n",
       "    <tr>\n",
       "      <th>248</th>\n",
       "      <td>231.85</td>\n",
       "      <td>235.77</td>\n",
       "    </tr>\n",
       "    <tr>\n",
       "      <th>249</th>\n",
       "      <td>235.77</td>\n",
       "      <td>242.35</td>\n",
       "    </tr>\n",
       "    <tr>\n",
       "      <th>250</th>\n",
       "      <td>242.35</td>\n",
       "      <td>NaN</td>\n",
       "    </tr>\n",
       "  </tbody>\n",
       "</table>\n",
       "<p>251 rows × 2 columns</p>\n",
       "</div>"
      ],
      "text/plain": [
       "      Close  target\n",
       "0    153.83  165.27\n",
       "1    165.27  163.49\n",
       "2    163.49  165.13\n",
       "3    165.13  165.14\n",
       "4    165.14  165.51\n",
       "..      ...     ...\n",
       "246  236.48  235.24\n",
       "247  235.24  231.85\n",
       "248  231.85  235.77\n",
       "249  235.77  242.35\n",
       "250  242.35     NaN\n",
       "\n",
       "[251 rows x 2 columns]"
      ]
     },
     "execution_count": 6,
     "metadata": {},
     "output_type": "execute_result"
    }
   ],
   "source": [
    "# adding target column\n",
    "df[\"target\"] = df.Close.shift(-1)\n",
    "df"
   ]
  },
  {
   "cell_type": "code",
   "execution_count": 7,
   "id": "cb053224",
   "metadata": {},
   "outputs": [
    {
     "name": "stdout",
     "output_type": "stream",
     "text": [
      "(250, 2)\n"
     ]
    },
    {
     "data": {
      "text/html": [
       "<div>\n",
       "<style scoped>\n",
       "    .dataframe tbody tr th:only-of-type {\n",
       "        vertical-align: middle;\n",
       "    }\n",
       "\n",
       "    .dataframe tbody tr th {\n",
       "        vertical-align: top;\n",
       "    }\n",
       "\n",
       "    .dataframe thead th {\n",
       "        text-align: right;\n",
       "    }\n",
       "</style>\n",
       "<table border=\"1\" class=\"dataframe\">\n",
       "  <thead>\n",
       "    <tr style=\"text-align: right;\">\n",
       "      <th></th>\n",
       "      <th>Close</th>\n",
       "      <th>target</th>\n",
       "    </tr>\n",
       "  </thead>\n",
       "  <tbody>\n",
       "    <tr>\n",
       "      <th>0</th>\n",
       "      <td>153.83</td>\n",
       "      <td>165.27</td>\n",
       "    </tr>\n",
       "    <tr>\n",
       "      <th>1</th>\n",
       "      <td>165.27</td>\n",
       "      <td>163.49</td>\n",
       "    </tr>\n",
       "    <tr>\n",
       "      <th>2</th>\n",
       "      <td>163.49</td>\n",
       "      <td>165.13</td>\n",
       "    </tr>\n",
       "    <tr>\n",
       "      <th>3</th>\n",
       "      <td>165.13</td>\n",
       "      <td>165.14</td>\n",
       "    </tr>\n",
       "    <tr>\n",
       "      <th>4</th>\n",
       "      <td>165.14</td>\n",
       "      <td>165.51</td>\n",
       "    </tr>\n",
       "  </tbody>\n",
       "</table>\n",
       "</div>"
      ],
      "text/plain": [
       "    Close  target\n",
       "0  153.83  165.27\n",
       "1  165.27  163.49\n",
       "2  163.49  165.13\n",
       "3  165.13  165.14\n",
       "4  165.14  165.51"
      ]
     },
     "execution_count": 7,
     "metadata": {},
     "output_type": "execute_result"
    }
   ],
   "source": [
    "# drop the NaN values in the last row in target column\n",
    "df.dropna(inplace=True)\n",
    "print(df.shape)\n",
    "df.head()"
   ]
  },
  {
   "cell_type": "markdown",
   "id": "e2c982e7",
   "metadata": {},
   "source": [
    "#### Splitting the dataset into train and test dataset\n",
    "Generally we split data as dependent and independent but here I am splitting the dataset which includes both values."
   ]
  },
  {
   "cell_type": "code",
   "execution_count": 8,
   "id": "1e71f472",
   "metadata": {},
   "outputs": [],
   "source": [
    "# custom function for train test split\n",
    "def train_test_split(data, perc):\n",
    "    data = data.values\n",
    "    n = int(len(data) * (1 - perc))\n",
    "    return data[:n], data[n:]"
   ]
  },
  {
   "cell_type": "code",
   "execution_count": 9,
   "id": "f277f1af",
   "metadata": {},
   "outputs": [],
   "source": [
    "# 80-20 split of data into train and test respectively\n",
    "train, test = train_test_split(df, 0.2)"
   ]
  },
  {
   "cell_type": "code",
   "execution_count": 10,
   "id": "69fd36e1",
   "metadata": {},
   "outputs": [
    {
     "name": "stdout",
     "output_type": "stream",
     "text": [
      "250\n",
      "200\n",
      "50\n"
     ]
    }
   ],
   "source": [
    "print(len(df))\n",
    "print(len(train))\n",
    "print(len(test))"
   ]
  },
  {
   "cell_type": "code",
   "execution_count": 11,
   "id": "156d4e56",
   "metadata": {},
   "outputs": [
    {
     "data": {
      "text/plain": [
       "((250, 2), (200, 2), (50, 2))"
      ]
     },
     "execution_count": 11,
     "metadata": {},
     "output_type": "execute_result"
    }
   ],
   "source": [
    "df.shape, train.shape, test.shape"
   ]
  },
  {
   "cell_type": "markdown",
   "id": "02083bad",
   "metadata": {},
   "source": [
    "#### Training with XGBRegressor\n",
    "I am going to use XGBRegressor model to train and predict based on that. It is the implementation of the scikit-learn API for XGBoost regression."
   ]
  },
  {
   "cell_type": "code",
   "execution_count": 12,
   "id": "75596fb8",
   "metadata": {},
   "outputs": [],
   "source": [
    "# lets split the train as dependent and independent to fit into the model\n",
    "X_train = train[:, :-1]\n",
    "y_train = train[:, -1]"
   ]
  },
  {
   "cell_type": "code",
   "execution_count": 13,
   "id": "1c4838ac",
   "metadata": {},
   "outputs": [
    {
     "data": {
      "text/plain": [
       "((200, 1), (200,))"
      ]
     },
     "execution_count": 13,
     "metadata": {},
     "output_type": "execute_result"
    }
   ],
   "source": [
    "X_train.shape, y_train.shape"
   ]
  },
  {
   "cell_type": "code",
   "execution_count": 14,
   "id": "5276ea64",
   "metadata": {},
   "outputs": [],
   "source": [
    "# XGBRegressor??"
   ]
  },
  {
   "cell_type": "code",
   "execution_count": 15,
   "id": "5b41d4f0",
   "metadata": {},
   "outputs": [
    {
     "name": "stdout",
     "output_type": "stream",
     "text": [
      "CPU times: user 1.73 s, sys: 0 ns, total: 1.73 s\n",
      "Wall time: 401 ms\n"
     ]
    },
    {
     "data": {
      "text/plain": [
       "XGBRegressor(base_score=0.5, booster='gbtree', colsample_bylevel=1,\n",
       "             colsample_bynode=1, colsample_bytree=1, gamma=0, gpu_id=-1,\n",
       "             importance_type='gain', interaction_constraints='',\n",
       "             learning_rate=0.300000012, max_delta_step=0, max_depth=6,\n",
       "             min_child_weight=1, missing=nan, monotone_constraints='()',\n",
       "             n_estimators=1000, n_jobs=-1, num_parallel_tree=1, random_state=0,\n",
       "             reg_alpha=0, reg_lambda=1, scale_pos_weight=1, subsample=1,\n",
       "             tree_method='exact', validate_parameters=1, verbosity=None)"
      ]
     },
     "execution_count": 15,
     "metadata": {},
     "output_type": "execute_result"
    }
   ],
   "source": [
    "%%time\n",
    "# using 100 trees and all cpu cores\n",
    "model = XGBRegressor(n_estimators=1000, n_jobs=-1)\n",
    "model.fit(X_train, y_train)"
   ]
  },
  {
   "cell_type": "markdown",
   "id": "222714c9",
   "metadata": {},
   "source": [
    "#### Prediction"
   ]
  },
  {
   "cell_type": "code",
   "execution_count": 16,
   "id": "d452f8bf",
   "metadata": {},
   "outputs": [
    {
     "data": {
      "text/plain": [
       "array([224.34, 224.97])"
      ]
     },
     "execution_count": 16,
     "metadata": {},
     "output_type": "execute_result"
    }
   ],
   "source": [
    "# lets take one of the test data\n",
    "test[0]"
   ]
  },
  {
   "cell_type": "code",
   "execution_count": 17,
   "id": "e2d9f2a2",
   "metadata": {},
   "outputs": [
    {
     "data": {
      "text/plain": [
       "array([[224.34]])"
      ]
     },
     "execution_count": 17,
     "metadata": {},
     "output_type": "execute_result"
    }
   ],
   "source": [
    "# we need to pass the first array and the model should predict the second array as we have our dataset maintained in this way. lets extract that as variable val.\n",
    "val = np.array(test[0, 0]).reshape(1, -1)\n",
    "val"
   ]
  },
  {
   "cell_type": "code",
   "execution_count": 18,
   "id": "7b4655d4",
   "metadata": {},
   "outputs": [
    {
     "data": {
      "text/plain": [
       "221.67845"
      ]
     },
     "execution_count": 18,
     "metadata": {},
     "output_type": "execute_result"
    }
   ],
   "source": [
    "# now, lets predict the next day's stock based on the val value. the model must predict 224.97\n",
    "pred = model.predict(val)\n",
    "pred[0]"
   ]
  },
  {
   "cell_type": "markdown",
   "id": "047898b2",
   "metadata": {},
   "source": [
    "Its not close as the value differs almost 3 dollars.\n",
    "\n",
    "**Now the next step would be to use Walk-forward validation to make the prediction more correct**"
   ]
  },
  {
   "cell_type": "markdown",
   "id": "ee046629",
   "metadata": {},
   "source": [
    "#### Walk-forward Validation\n",
    "- In timeseries, as we make one step forward prediction, in our case one day prediciton, we will predict the first record in the test dataset first\n",
    "- After predicting the first row of test dataset, we add real observation from the test dataset to the train dataset, refit the model and predict the next one in the test dataset.\n",
    "- RMSE metric from scikit-learn is used for evaluation"
   ]
  },
  {
   "cell_type": "code",
   "execution_count": 19,
   "id": "63a5d789",
   "metadata": {},
   "outputs": [],
   "source": [
    "# lets create a function for the above prediction to predict one sample at a time\n",
    "def xgb_predict(train, val):\n",
    "    train = np.array(train)\n",
    "    X_train, y_train = train[:, :-1], train[:, -1]\n",
    "    model = XGBRegressor(n_estimators=1000, n_jobs=1)\n",
    "    model.fit(X_train, y_train)\n",
    "\n",
    "    val = np.array(val).reshape(1, -1)\n",
    "    pred = model.predict(val)\n",
    "    return pred[0]"
   ]
  },
  {
   "cell_type": "code",
   "execution_count": 20,
   "id": "7930152f",
   "metadata": {},
   "outputs": [],
   "source": [
    "# now, lets create a function for walk-forward validation\n",
    "def validate(dataset, perc):\n",
    "    predictions = []\n",
    "    train, test = train_test_split(dataset, perc)\n",
    "    history = [x for x in train]\n",
    "\n",
    "    for i in range(len(test)):\n",
    "        X_test, y_test = test[i, :-1], test[i, -1]\n",
    "\n",
    "        pred = xgb_predict(history, X_test[0])\n",
    "        predictions.append(pred)\n",
    "        history.append(test[i])\n",
    "\n",
    "    error = mean_squared_error(test[:, -1], predictions, squared=False)\n",
    "\n",
    "    return error, test[:, -1], predictions"
   ]
  },
  {
   "cell_type": "code",
   "execution_count": 21,
   "id": "915ee70d",
   "metadata": {},
   "outputs": [
    {
     "name": "stdout",
     "output_type": "stream",
     "text": [
      "CPU times: user 10.2 s, sys: 0 ns, total: 10.2 s\n",
      "Wall time: 10.2 s\n"
     ]
    }
   ],
   "source": [
    "%%time\n",
    "rmse, y, pred = validate(df, 0.2)"
   ]
  },
  {
   "cell_type": "code",
   "execution_count": 22,
   "id": "fc692d48",
   "metadata": {},
   "outputs": [
    {
     "data": {
      "text/plain": [
       "5.7390882115456145"
      ]
     },
     "execution_count": 22,
     "metadata": {},
     "output_type": "execute_result"
    }
   ],
   "source": [
    "rmse"
   ]
  },
  {
   "cell_type": "code",
   "execution_count": 23,
   "id": "89d68ab1",
   "metadata": {},
   "outputs": [
    {
     "data": {
      "text/plain": [
       "array([224.97, 225.95, 229.53, 232.33, 232.9 , 238.93, 231.96, 239.65,\n",
       "       239.51, 243.  , 242.01, 242.2 , 242.47, 243.77, 242.82, 244.49,\n",
       "       244.99, 243.7 , 244.2 , 243.79, 240.97, 234.51, 233.27, 234.55,\n",
       "       228.99, 232.38, 236.94, 233.87, 227.56, 226.73, 231.6 , 227.39,\n",
       "       233.78, 232.42, 237.13, 235.75, 234.81, 237.71, 237.04, 230.72,\n",
       "       230.35, 235.99, 237.58, 235.46, 232.34, 236.48, 235.24, 231.85,\n",
       "       235.77, 242.35])"
      ]
     },
     "execution_count": 23,
     "metadata": {},
     "output_type": "execute_result"
    }
   ],
   "source": [
    "y"
   ]
  },
  {
   "cell_type": "code",
   "execution_count": 24,
   "id": "a526f3d2",
   "metadata": {},
   "outputs": [
    {
     "data": {
      "text/plain": [
       "[221.67845,\n",
       " 224.15,\n",
       " 227.27002,\n",
       " 225.52968,\n",
       " 217.30133,\n",
       " 232.89874,\n",
       " 238.9287,\n",
       " 217.30229,\n",
       " 231.96063,\n",
       " 239.50873,\n",
       " 239.51024,\n",
       " 242.009,\n",
       " 242.19868,\n",
       " 242.46826,\n",
       " 242.0109,\n",
       " 242.01114,\n",
       " 242.81917,\n",
       " 244.98877,\n",
       " 242.81987,\n",
       " 244.98808,\n",
       " 242.82213,\n",
       " 242.19997,\n",
       " 238.92659,\n",
       " 238.92697,\n",
       " 233.26938,\n",
       " 225.53389,\n",
       " 232.90277,\n",
       " 231.9598,\n",
       " 234.54941,\n",
       " 231.64525,\n",
       " 228.91385,\n",
       " 217.30403,\n",
       " 231.64746,\n",
       " 227.56432,\n",
       " 236.9399,\n",
       " 233.86763,\n",
       " 233.87013,\n",
       " 228.9923,\n",
       " 235.74689,\n",
       " 235.7498,\n",
       " 227.39047,\n",
       " 230.3492,\n",
       " 234.80931,\n",
       " 237.03722,\n",
       " 234.81363,\n",
       " 232.9025,\n",
       " 233.87036,\n",
       " 232.34209,\n",
       " 239.64667,\n",
       " 234.811]"
      ]
     },
     "execution_count": 24,
     "metadata": {},
     "output_type": "execute_result"
    }
   ],
   "source": [
    "pred"
   ]
  },
  {
   "cell_type": "markdown",
   "id": "ab7a7d11",
   "metadata": {},
   "source": [
    "#### Conclusion\n",
    "- The `rmse` value is not that bad but we can improve if needed by using better models.\n",
    "- I just predicted the model with using `close price`but in real scenario, people generally use all other columns shown in the dataset and also other sources that can add value to the model as stock market is complex and needs many useful considerations.\n",
    "- In real life scenario, this model is not suitable for for testing, it gives a overall idea how to do timeseries forecasting using XGBoost."
   ]
  },
  {
   "cell_type": "code",
   "execution_count": null,
   "id": "e7930492",
   "metadata": {},
   "outputs": [],
   "source": []
  }
 ],
 "metadata": {
  "kernelspec": {
   "display_name": "Python 3",
   "language": "python",
   "name": "python3"
  },
  "language_info": {
   "codemirror_mode": {
    "name": "ipython",
    "version": 3
   },
   "file_extension": ".py",
   "mimetype": "text/x-python",
   "name": "python",
   "nbconvert_exporter": "python",
   "pygments_lexer": "ipython3",
   "version": "3.8.5"
  }
 },
 "nbformat": 4,
 "nbformat_minor": 5
}
