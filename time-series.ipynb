{
 "cells": [
  {
   "cell_type": "markdown",
   "id": "3c46eefe",
   "metadata": {},
   "source": [
    "### Time Series Forecasting"
   ]
  },
  {
   "cell_type": "markdown",
   "id": "ae789e70",
   "metadata": {},
   "source": [
    "#### Importing libraries, dataset and pre-processing"
   ]
  },
  {
   "cell_type": "code",
   "execution_count": 1,
   "id": "488fdcab",
   "metadata": {},
   "outputs": [],
   "source": [
    "%load_ext autoreload\n",
    "%autoreload 2\n",
    "%load_ext watermark\n",
    "%load_ext lab_black"
   ]
  },
  {
   "cell_type": "code",
   "execution_count": 2,
   "id": "360fa966",
   "metadata": {},
   "outputs": [],
   "source": [
    "import numpy as np\n",
    "import pandas as pd\n",
    "import matplotlib.pyplot as plt\n",
    "from sklearn.metrics import mean_squared_error\n",
    "\n",
    "import warnings\n",
    "\n",
    "warnings.filterwarnings(\"ignore\")\n",
    "\n",
    "%matplotlib inline"
   ]
  },
  {
   "cell_type": "code",
   "execution_count": 3,
   "id": "013642b5",
   "metadata": {},
   "outputs": [
    {
     "data": {
      "text/html": [
       "<div>\n",
       "<style scoped>\n",
       "    .dataframe tbody tr th:only-of-type {\n",
       "        vertical-align: middle;\n",
       "    }\n",
       "\n",
       "    .dataframe tbody tr th {\n",
       "        vertical-align: top;\n",
       "    }\n",
       "\n",
       "    .dataframe thead th {\n",
       "        text-align: right;\n",
       "    }\n",
       "</style>\n",
       "<table border=\"1\" class=\"dataframe\">\n",
       "  <thead>\n",
       "    <tr style=\"text-align: right;\">\n",
       "      <th></th>\n",
       "      <th>Month</th>\n",
       "      <th>Sales</th>\n",
       "    </tr>\n",
       "  </thead>\n",
       "  <tbody>\n",
       "    <tr>\n",
       "      <th>0</th>\n",
       "      <td>1-01</td>\n",
       "      <td>266.0</td>\n",
       "    </tr>\n",
       "    <tr>\n",
       "      <th>1</th>\n",
       "      <td>1-02</td>\n",
       "      <td>145.9</td>\n",
       "    </tr>\n",
       "    <tr>\n",
       "      <th>2</th>\n",
       "      <td>1-03</td>\n",
       "      <td>183.1</td>\n",
       "    </tr>\n",
       "    <tr>\n",
       "      <th>3</th>\n",
       "      <td>1-04</td>\n",
       "      <td>119.3</td>\n",
       "    </tr>\n",
       "    <tr>\n",
       "      <th>4</th>\n",
       "      <td>1-05</td>\n",
       "      <td>180.3</td>\n",
       "    </tr>\n",
       "  </tbody>\n",
       "</table>\n",
       "</div>"
      ],
      "text/plain": [
       "  Month  Sales\n",
       "0  1-01  266.0\n",
       "1  1-02  145.9\n",
       "2  1-03  183.1\n",
       "3  1-04  119.3\n",
       "4  1-05  180.3"
      ]
     },
     "execution_count": 3,
     "metadata": {},
     "output_type": "execute_result"
    }
   ],
   "source": [
    "# dataset downloaded from Github page of jbrownlee\n",
    "df = pd.read_csv(\n",
    "    \"https://raw.githubusercontent.com/jbrownlee/Datasets/master/shampoo.csv\"\n",
    ")\n",
    "df.head()"
   ]
  },
  {
   "cell_type": "code",
   "execution_count": 4,
   "id": "7d20294a",
   "metadata": {},
   "outputs": [
    {
     "data": {
      "text/plain": [
       "pandas.core.frame.DataFrame"
      ]
     },
     "execution_count": 4,
     "metadata": {},
     "output_type": "execute_result"
    }
   ],
   "source": [
    "type(df)"
   ]
  },
  {
   "cell_type": "code",
   "execution_count": 5,
   "id": "aa851d6b",
   "metadata": {},
   "outputs": [
    {
     "data": {
      "text/plain": [
       "Month\n",
       "1-01    266.0\n",
       "1-02    145.9\n",
       "1-03    183.1\n",
       "1-04    119.3\n",
       "1-05    180.3\n",
       "Name: Sales, dtype: float64"
      ]
     },
     "execution_count": 5,
     "metadata": {},
     "output_type": "execute_result"
    }
   ],
   "source": [
    "# converting df to series (csv to time series)\n",
    "# month into index for better data manipulation and series instead of dataframe\n",
    "df = pd.read_csv(\n",
    "    \"https://raw.githubusercontent.com/jbrownlee/Datasets/master/shampoo.csv\",\n",
    "    index_col=[0],\n",
    "    parse_dates=True,\n",
    "    squeeze=True,\n",
    ")\n",
    "df.head()"
   ]
  },
  {
   "cell_type": "code",
   "execution_count": 6,
   "id": "468a5553",
   "metadata": {},
   "outputs": [
    {
     "data": {
      "text/plain": [
       "pandas.core.series.Series"
      ]
     },
     "execution_count": 6,
     "metadata": {},
     "output_type": "execute_result"
    }
   ],
   "source": [
    "type(df)"
   ]
  },
  {
   "cell_type": "code",
   "execution_count": 7,
   "id": "1fa7ce25",
   "metadata": {},
   "outputs": [
    {
     "data": {
      "text/plain": [
       "<AxesSubplot:xlabel='Month'>"
      ]
     },
     "execution_count": 7,
     "metadata": {},
     "output_type": "execute_result"
    },
    {
     "data": {
      "image/png": "[encoded data removed]",
      "text/plain": [
       "<Figure size 432x288 with 1 Axes>"
      ]
     },
     "metadata": {
      "needs_background": "light"
     },
     "output_type": "display_data"
    }
   ],
   "source": [
    "df.plot()"
   ]
  },
  {
   "cell_type": "code",
   "execution_count": 8,
   "id": "2ccf9475",
   "metadata": {},
   "outputs": [
    {
     "data": {
      "text/plain": [
       "<AxesSubplot:xlabel='Month'>"
      ]
     },
     "execution_count": 8,
     "metadata": {},
     "output_type": "execute_result"
    },
    {
     "data": {
      "image/png": "[encoded data removed]",
      "text/plain": [
       "<Figure size 432x288 with 1 Axes>"
      ]
     },
     "metadata": {
      "needs_background": "light"
     },
     "output_type": "display_data"
    }
   ],
   "source": [
    "df.plot(style=\".k\")"
   ]
  },
  {
   "cell_type": "code",
   "execution_count": 9,
   "id": "6bfcbddb",
   "metadata": {},
   "outputs": [
    {
     "data": {
      "text/plain": [
       "(36,)"
      ]
     },
     "execution_count": 9,
     "metadata": {},
     "output_type": "execute_result"
    }
   ],
   "source": [
    "df.shape"
   ]
  },
  {
   "cell_type": "code",
   "execution_count": 10,
   "id": "63bee0cf",
   "metadata": {},
   "outputs": [
    {
     "data": {
      "text/plain": [
       "count     36.000000\n",
       "mean     312.600000\n",
       "std      148.937164\n",
       "min      119.300000\n",
       "25%      192.450000\n",
       "50%      280.150000\n",
       "75%      411.100000\n",
       "max      682.000000\n",
       "Name: Sales, dtype: float64"
      ]
     },
     "execution_count": 10,
     "metadata": {},
     "output_type": "execute_result"
    }
   ],
   "source": [
    "df.describe()"
   ]
  },
  {
   "cell_type": "code",
   "execution_count": 11,
   "id": "b1bf8df8",
   "metadata": {},
   "outputs": [
    {
     "data": {
      "text/plain": [
       "<AxesSubplot:xlabel='Month'>"
      ]
     },
     "execution_count": 11,
     "metadata": {},
     "output_type": "execute_result"
    },
    {
     "data": {
      "image/png": "[encoded data removed]",
      "text/plain": [
       "<Figure size 432x288 with 1 Axes>"
      ]
     },
     "metadata": {
      "needs_background": "light"
     },
     "output_type": "display_data"
    }
   ],
   "source": [
    "# smoothing the time series dataset (can be done by calculating the moving average)\n",
    "# lets take 10 take moving average (mainly used in stock market analysis)\n",
    "df_ma = df.rolling(window=10).mean()\n",
    "df_ma.plot()"
   ]
  },
  {
   "cell_type": "markdown",
   "id": "82649489",
   "metadata": {},
   "source": [
    "#### BaseLine model (Naive model)\n",
    "It assumes that the previous values are related to the current values. In our case, the value of last day is going to reflect also the value of current day with some more variation."
   ]
  },
  {
   "cell_type": "code",
   "execution_count": 12,
   "id": "e4db910d",
   "metadata": {},
   "outputs": [
    {
     "data": {
      "text/html": [
       "<div>\n",
       "<style scoped>\n",
       "    .dataframe tbody tr th:only-of-type {\n",
       "        vertical-align: middle;\n",
       "    }\n",
       "\n",
       "    .dataframe tbody tr th {\n",
       "        vertical-align: top;\n",
       "    }\n",
       "\n",
       "    .dataframe thead th {\n",
       "        text-align: right;\n",
       "    }\n",
       "</style>\n",
       "<table border=\"1\" class=\"dataframe\">\n",
       "  <thead>\n",
       "    <tr style=\"text-align: right;\">\n",
       "      <th></th>\n",
       "      <th>Sales</th>\n",
       "      <th>Sales</th>\n",
       "    </tr>\n",
       "    <tr>\n",
       "      <th>Month</th>\n",
       "      <th></th>\n",
       "      <th></th>\n",
       "    </tr>\n",
       "  </thead>\n",
       "  <tbody>\n",
       "    <tr>\n",
       "      <th>1-01</th>\n",
       "      <td>266.0</td>\n",
       "      <td>NaN</td>\n",
       "    </tr>\n",
       "    <tr>\n",
       "      <th>1-02</th>\n",
       "      <td>145.9</td>\n",
       "      <td>266.0</td>\n",
       "    </tr>\n",
       "    <tr>\n",
       "      <th>1-03</th>\n",
       "      <td>183.1</td>\n",
       "      <td>145.9</td>\n",
       "    </tr>\n",
       "    <tr>\n",
       "      <th>1-04</th>\n",
       "      <td>119.3</td>\n",
       "      <td>183.1</td>\n",
       "    </tr>\n",
       "    <tr>\n",
       "      <th>1-05</th>\n",
       "      <td>180.3</td>\n",
       "      <td>119.3</td>\n",
       "    </tr>\n",
       "  </tbody>\n",
       "</table>\n",
       "</div>"
      ],
      "text/plain": [
       "       Sales  Sales\n",
       "Month              \n",
       "1-01   266.0    NaN\n",
       "1-02   145.9  266.0\n",
       "1-03   183.1  145.9\n",
       "1-04   119.3  183.1\n",
       "1-05   180.3  119.3"
      ]
     },
     "execution_count": 12,
     "metadata": {},
     "output_type": "execute_result"
    }
   ],
   "source": [
    "# using shift method to create new forecast values\n",
    "df_base = pd.concat([df, df.shift(1)], axis=1)\n",
    "df_base.head()"
   ]
  },
  {
   "cell_type": "code",
   "execution_count": 13,
   "id": "d5ababbb",
   "metadata": {},
   "outputs": [
    {
     "name": "stdout",
     "output_type": "stream",
     "text": [
      "(35, 2)\n"
     ]
    },
    {
     "data": {
      "text/html": [
       "<div>\n",
       "<style scoped>\n",
       "    .dataframe tbody tr th:only-of-type {\n",
       "        vertical-align: middle;\n",
       "    }\n",
       "\n",
       "    .dataframe tbody tr th {\n",
       "        vertical-align: top;\n",
       "    }\n",
       "\n",
       "    .dataframe thead th {\n",
       "        text-align: right;\n",
       "    }\n",
       "</style>\n",
       "<table border=\"1\" class=\"dataframe\">\n",
       "  <thead>\n",
       "    <tr style=\"text-align: right;\">\n",
       "      <th></th>\n",
       "      <th>Actual_Sales</th>\n",
       "      <th>Forecase_Sales</th>\n",
       "    </tr>\n",
       "    <tr>\n",
       "      <th>Month</th>\n",
       "      <th></th>\n",
       "      <th></th>\n",
       "    </tr>\n",
       "  </thead>\n",
       "  <tbody>\n",
       "    <tr>\n",
       "      <th>1-02</th>\n",
       "      <td>145.9</td>\n",
       "      <td>266.0</td>\n",
       "    </tr>\n",
       "    <tr>\n",
       "      <th>1-03</th>\n",
       "      <td>183.1</td>\n",
       "      <td>145.9</td>\n",
       "    </tr>\n",
       "    <tr>\n",
       "      <th>1-04</th>\n",
       "      <td>119.3</td>\n",
       "      <td>183.1</td>\n",
       "    </tr>\n",
       "    <tr>\n",
       "      <th>1-05</th>\n",
       "      <td>180.3</td>\n",
       "      <td>119.3</td>\n",
       "    </tr>\n",
       "    <tr>\n",
       "      <th>1-06</th>\n",
       "      <td>168.5</td>\n",
       "      <td>180.3</td>\n",
       "    </tr>\n",
       "  </tbody>\n",
       "</table>\n",
       "</div>"
      ],
      "text/plain": [
       "       Actual_Sales  Forecase_Sales\n",
       "Month                              \n",
       "1-02          145.9           266.0\n",
       "1-03          183.1           145.9\n",
       "1-04          119.3           183.1\n",
       "1-05          180.3           119.3\n",
       "1-06          168.5           180.3"
      ]
     },
     "execution_count": 13,
     "metadata": {},
     "output_type": "execute_result"
    }
   ],
   "source": [
    "# renaming the column names and removing the NaN values\n",
    "df_base.columns = [\"Actual_Sales\", \"Forecase_Sales\"]\n",
    "df_base.dropna(inplace=True)\n",
    "print(df_base.shape)\n",
    "df_base.head()"
   ]
  },
  {
   "cell_type": "code",
   "execution_count": 14,
   "id": "d079abda",
   "metadata": {},
   "outputs": [
    {
     "data": {
      "text/plain": [
       "108.23764726616282"
      ]
     },
     "execution_count": 14,
     "metadata": {},
     "output_type": "execute_result"
    }
   ],
   "source": [
    "# calculate the error based on the data we create above\n",
    "df_error = mean_squared_error(df_base.Actual_Sales, df_base.Forecase_Sales)\n",
    "df_error = np.sqrt(df_error)\n",
    "df_error"
   ]
  },
  {
   "cell_type": "markdown",
   "id": "f0e17767",
   "metadata": {},
   "source": [
    "This is the error from the baseline model, lets use ARIMA model to check if we can get better results than this baseline model."
   ]
  },
  {
   "cell_type": "markdown",
   "id": "89cf501e",
   "metadata": {},
   "source": [
    "#### Auto Regressive Integrated Moving Average (ARIMA) model\n",
    "- ARIMA(p,d,q) -> ARIMA takes 3 parameters\n",
    "    - p -> p is Auto Regressive (p,0,0) becomes Auto Regressive model.\n",
    "    - q -> q is Moving Average  (0,0,q) becomes Moving Average model.\n",
    "    - So, by just playing around the p,d,q values we can create different models. But here, lets go with ARIMA model as a whole."
   ]
  },
  {
   "cell_type": "code",
   "execution_count": 15,
   "id": "e85b2528",
   "metadata": {},
   "outputs": [],
   "source": [
    "# lets calculate p with pacf and q with acf\n",
    "from statsmodels.graphics.tsaplots import plot_acf, plot_pacf"
   ]
  },
  {
   "cell_type": "code",
   "execution_count": 16,
   "id": "c1cbb6dc",
   "metadata": {},
   "outputs": [
    {
     "data": {
      "image/png": "[encoded data removed]",
      "text/plain": [
       "<Figure size 432x288 with 1 Axes>"
      ]
     },
     "metadata": {
      "needs_background": "light"
     },
     "output_type": "display_data"
    }
   ],
   "source": [
    "# very important, many people don't know this, use ; to avoid 2 graphs being plotted\n",
    "# lets find q value\n",
    "plot_acf(df)"
   ]
  },
  {
   "cell_type": "markdown",
   "id": "f35ff71c",
   "metadata": {},
   "source": [
    "Now, how to choose q value, choose the value that has corelation outside the critical range. For our case, its 3 so we take `q=3`"
   ]
  },
  {
   "cell_type": "code",
   "execution_count": 17,
   "id": "fcc8c997",
   "metadata": {},
   "outputs": [
    {
     "data": {
      "image/png": "[encoded data removed]",
      "text/plain": [
       "<Figure size 432x288 with 1 Axes>"
      ]
     },
     "metadata": {
      "needs_background": "light"
     },
     "output_type": "display_data"
    }
   ],
   "source": [
    "# now lets find p value\n",
    "plot_pacf(df)"
   ]
  },
  {
   "cell_type": "markdown",
   "id": "6c7035e3",
   "metadata": {},
   "source": [
    "We use the same rule to choose the p value as in q, so we take `p=2`"
   ]
  },
  {
   "cell_type": "markdown",
   "id": "334c92d3",
   "metadata": {},
   "source": [
    "- Now, how to find the value of d. The value of d is actually between `0-2`. \n",
    "- This value makes the series stationary by removing the trend and seasonality factor which helps for better prediciton.\n",
    "- It's complicated and must read the figure if we want to calculate differencing and see the value of d. But, here lets use formula to calculate."
   ]
  },
  {
   "cell_type": "code",
   "execution_count": 18,
   "id": "e455ef4e",
   "metadata": {},
   "outputs": [
    {
     "data": {
      "text/plain": [
       "1"
      ]
     },
     "execution_count": 18,
     "metadata": {},
     "output_type": "execute_result"
    }
   ],
   "source": [
    "from pmdarima.arima.utils import ndiffs\n",
    "\n",
    "ndiffs(df, test=\"adf\")"
   ]
  },
  {
   "cell_type": "markdown",
   "id": "7656082d",
   "metadata": {},
   "source": [
    "Ok, so the formula gives the value as 1, so lets go with 1 for now. But if you want you can play around with this number."
   ]
  },
  {
   "cell_type": "markdown",
   "id": "433861c5",
   "metadata": {},
   "source": [
    "We take values, `p=2`, `q=3` and `d=1`"
   ]
  },
  {
   "cell_type": "code",
   "execution_count": 19,
   "id": "9ff7e594",
   "metadata": {},
   "outputs": [],
   "source": [
    "from statsmodels.tsa.arima_model import ARIMA"
   ]
  },
  {
   "cell_type": "code",
   "execution_count": 20,
   "id": "323a9145",
   "metadata": {},
   "outputs": [
    {
     "name": "stdout",
     "output_type": "stream",
     "text": [
      "25 11\n"
     ]
    }
   ],
   "source": [
    "# train test split (70/30)\n",
    "n = int(len(df) * 0.7)\n",
    "train = df[:n]\n",
    "test = df[n:]\n",
    "print(len(train), len(test))"
   ]
  },
  {
   "cell_type": "code",
   "execution_count": 21,
   "id": "ad6e26a3",
   "metadata": {},
   "outputs": [],
   "source": [
    "import warnings\n",
    "\n",
    "warnings.filterwarnings(\"ignore\")"
   ]
  },
  {
   "cell_type": "markdown",
   "id": "8ba052b6",
   "metadata": {},
   "source": [
    "One strange behaviour of arima model is that i imported warnings and ignore it in the beginning but if needs to be specified again before the mdoel being initialized. proabbly it is not the case always but this time it works."
   ]
  },
  {
   "cell_type": "code",
   "execution_count": 22,
   "id": "1ddf59a7",
   "metadata": {},
   "outputs": [],
   "source": [
    "arima_model = ARIMA(train, order=(2, 1, 3))  # p,d,q"
   ]
  },
  {
   "cell_type": "code",
   "execution_count": 23,
   "id": "9e63b427",
   "metadata": {},
   "outputs": [],
   "source": [
    "# arima_model_fit = arima_model.fit()"
   ]
  },
  {
   "cell_type": "markdown",
   "id": "70065aee",
   "metadata": {},
   "source": [
    "This error gets printed by above model fit although it follows p,d,q pattern in ARIMA model. lets change and see if it works.`ValueError: The computed initial MA coefficients are not invertible\n",
    "You should induce invertibility, choose a different model order, or you can\n",
    "pass your own start_params.`"
   ]
  },
  {
   "cell_type": "code",
   "execution_count": 24,
   "id": "a58611b2",
   "metadata": {},
   "outputs": [],
   "source": [
    "arima_model = ARIMA(\n",
    "    train, order=(3, 1, 2)\n",
    ")  # this value seems to depend upon arima dependencies so trial and error\n",
    "arima_model_fit = arima_model.fit()"
   ]
  },
  {
   "cell_type": "code",
   "execution_count": 25,
   "id": "2bb378dc",
   "metadata": {},
   "outputs": [
    {
     "data": {
      "text/plain": [
       "272.3891948071194"
      ]
     },
     "execution_count": 25,
     "metadata": {},
     "output_type": "execute_result"
    }
   ],
   "source": [
    "# lets see the aic value to see how good the model is, lower the better\n",
    "arima_model_fit.aic"
   ]
  },
  {
   "cell_type": "code",
   "execution_count": 26,
   "id": "4057e5d0",
   "metadata": {},
   "outputs": [
    {
     "data": {
      "text/plain": [
       "(array([411.99808507, 364.11849745, 359.39476382, 351.27891966,\n",
       "        406.97151856, 418.33293147, 411.19334147, 385.83426856,\n",
       "        405.32983455, 435.87745175, 454.17130989]),\n",
       " array([45.77672156, 47.03996352, 53.77749384, 55.32955838, 66.91442454,\n",
       "        68.00850486, 69.71351029, 70.41749152, 75.62881719, 79.25591984,\n",
       "        81.65607574]),\n",
       " array([[322.27735948, 501.71881066],\n",
       "        [271.92186312, 456.31513178],\n",
       "        [253.99281271, 464.79671493],\n",
       "        [242.83497796, 459.72286136],\n",
       "        [275.82165642, 538.1213807 ],\n",
       "        [285.03871131, 551.62715164],\n",
       "        [274.55737206, 547.82931087],\n",
       "        [247.81852131, 523.85001581],\n",
       "        [257.10007666, 553.55959244],\n",
       "        [280.5387033 , 591.21620019],\n",
       "        [294.12834231, 614.21427746]]))"
      ]
     },
     "execution_count": 26,
     "metadata": {},
     "output_type": "execute_result"
    }
   ],
   "source": [
    "# forecast\n",
    "df_forecast = arima_model_fit.forecast(steps=11)\n",
    "df_forecast"
   ]
  },
  {
   "cell_type": "code",
   "execution_count": 27,
   "id": "fdb29481",
   "metadata": {},
   "outputs": [
    {
     "data": {
      "text/plain": [
       "array([412.  , 364.12, 359.39, 351.28, 406.97, 418.33, 411.19, 385.83,\n",
       "       405.33, 435.88, 454.17])"
      ]
     },
     "execution_count": 27,
     "metadata": {},
     "output_type": "execute_result"
    }
   ],
   "source": [
    "# lets take just the forecast value\n",
    "df_forecast = arima_model_fit.forecast(steps=11)[\n",
    "    0\n",
    "]  # 0 is used to print actual forecast, as forecast contains other arrays too as shown above\n",
    "df_forecast = np.round(df_forecast, 2)  # rounding to 2 decimals\n",
    "df_forecast"
   ]
  },
  {
   "cell_type": "code",
   "execution_count": 28,
   "id": "086976cf",
   "metadata": {},
   "outputs": [
    {
     "data": {
      "text/plain": [
       "130.9284738459758"
      ]
     },
     "execution_count": 28,
     "metadata": {},
     "output_type": "execute_result"
    }
   ],
   "source": [
    "# calculate the error\n",
    "np.sqrt(mean_squared_error(test, df_forecast))"
   ]
  },
  {
   "cell_type": "markdown",
   "id": "39b1fee7",
   "metadata": {},
   "source": [
    "The best way to check the error is comparing it with the baseline model. If the ARIMA model gives better result than the baseline, we accept the result otherwise we reject it. So here the ARIMA model gives poor result so our base model is perfect atm."
   ]
  },
  {
   "cell_type": "markdown",
   "id": "5710275d",
   "metadata": {},
   "source": [
    "#### Fine tuning the values\n",
    "Lets fine tune the values to see if it gives better result. After fine tuning also, if the result is not good, go with base model."
   ]
  },
  {
   "cell_type": "code",
   "execution_count": 29,
   "id": "233b27dc",
   "metadata": {},
   "outputs": [],
   "source": [
    "# lets give p,d,q values of certain range\n",
    "p_values = range(0, 5)\n",
    "d_values = range(0, 3)\n",
    "q_values = range(0, 5)"
   ]
  },
  {
   "cell_type": "code",
   "execution_count": 30,
   "id": "37ca1f3e",
   "metadata": {},
   "outputs": [
    {
     "name": "stdout",
     "output_type": "stream",
     "text": [
      "ARIMA(0, 0, 0) RMSE = 279.20\n",
      "ARIMA(0, 0, 1) RMSE = 264.80\n",
      "ARIMA(0, 0, 2) RMSE = 242.01\n",
      "ARIMA(0, 0, 3) RMSE = 249.06\n",
      "ARIMA(0, 0, 4) RMSE = 175.85\n",
      "ARIMA(0, 1, 0) RMSE = 183.98\n",
      "ARIMA(0, 1, 1) RMSE = 201.63\n",
      "ARIMA(0, 1, 2) RMSE = 185.77\n",
      "ARIMA(0, 1, 3) RMSE = 203.63\n",
      "ARIMA(0, 1, 4) RMSE = 120.22\n",
      "ARIMA(0, 2, 0) RMSE = 184.44\n",
      "ARIMA(0, 2, 1) RMSE = 168.50\n",
      "ARIMA(0, 2, 2) RMSE = 155.64\n",
      "ARIMA(0, 2, 3) RMSE = 151.74\n",
      "ARIMA(1, 0, 0) RMSE = 247.30\n",
      "ARIMA(1, 0, 1) RMSE = 215.71\n",
      "ARIMA(1, 0, 2) RMSE = 209.58\n",
      "ARIMA(1, 0, 3) RMSE = 186.70\n",
      "ARIMA(1, 1, 0) RMSE = 178.01\n",
      "ARIMA(1, 1, 1) RMSE = 205.37\n",
      "ARIMA(1, 2, 0) RMSE = 137.28\n",
      "ARIMA(1, 2, 1) RMSE = 161.65\n",
      "ARIMA(2, 0, 0) RMSE = 212.72\n",
      "ARIMA(2, 0, 1) RMSE = 183.71\n",
      "ARIMA(2, 0, 4) RMSE = 161.79\n",
      "ARIMA(2, 1, 0) RMSE = 188.38\n",
      "ARIMA(2, 1, 1) RMSE = 199.08\n",
      "ARIMA(2, 1, 2) RMSE = 189.43\n",
      "ARIMA(2, 2, 0) RMSE = 184.46\n",
      "ARIMA(3, 0, 0) RMSE = 215.24\n",
      "ARIMA(3, 0, 2) RMSE = 1650.29\n",
      "ARIMA(3, 1, 0) RMSE = 148.41\n",
      "ARIMA(3, 1, 1) RMSE = 151.13\n",
      "ARIMA(3, 1, 2) RMSE = 134.52\n",
      "ARIMA(3, 1, 4) RMSE = 193.94\n",
      "ARIMA(3, 2, 0) RMSE = 157.15\n",
      "ARIMA(3, 2, 1) RMSE = 127.94\n",
      "ARIMA(3, 2, 2) RMSE = 125.71\n",
      "ARIMA(3, 2, 3) RMSE = 120.38\n",
      "ARIMA(4, 0, 0) RMSE = 182.30\n",
      "ARIMA(4, 0, 1) RMSE = 168.36\n",
      "ARIMA(4, 1, 0) RMSE = 149.46\n",
      "ARIMA(4, 1, 1) RMSE = 150.39\n",
      "ARIMA(4, 1, 2) RMSE = 138.49\n",
      "ARIMA(4, 1, 3) RMSE = 143.53\n",
      "ARIMA(4, 1, 4) RMSE = 138.94\n",
      "ARIMA(4, 2, 0) RMSE = 141.61\n",
      "ARIMA(4, 2, 1) RMSE = 124.79\n",
      "ARIMA(4, 2, 2) RMSE = 132.48\n",
      "ARIMA(4, 2, 3) RMSE = 127.10\n"
     ]
    }
   ],
   "source": [
    "# lets search the best parameters\n",
    "for p in p_values:\n",
    "    for d in d_values:\n",
    "        for q in q_values:\n",
    "            order = (p, d, q)\n",
    "            n = int(len(df) * 0.7)\n",
    "            df_train, df_test = df[:n], df[n:]\n",
    "            predictions = []\n",
    "            for i in range(len(df_test)):\n",
    "                try:\n",
    "                    model = ARIMA(df_train, order)\n",
    "                    model_fit = model.fit()\n",
    "                    pred = model_fit.forecast()[0]\n",
    "                    predictions.append(pred)\n",
    "                    error = np.sqrt(mean_squared_error(df_test, predictions))\n",
    "                    print(\"ARIMA%s RMSE = %.2f\" % (order, error))\n",
    "                except:\n",
    "                    continue"
   ]
  },
  {
   "cell_type": "markdown",
   "id": "a9d8a6ae",
   "metadata": {},
   "source": [
    "##### same thing above can be done with itertools which makes code more clean"
   ]
  },
  {
   "cell_type": "code",
   "execution_count": 31,
   "id": "1dc15e2d",
   "metadata": {},
   "outputs": [
    {
     "name": "stdout",
     "output_type": "stream",
     "text": [
      "25 11\n"
     ]
    }
   ],
   "source": [
    "print(len(train), len(test))"
   ]
  },
  {
   "cell_type": "code",
   "execution_count": 32,
   "id": "f7ed957e",
   "metadata": {},
   "outputs": [
    {
     "name": "stdout",
     "output_type": "stream",
     "text": [
      "ARIMA(0, 0, 0) RMSE = 279.20\n",
      "ARIMA(0, 0, 1) RMSE = 264.80\n",
      "ARIMA(0, 0, 2) RMSE = 242.01\n",
      "ARIMA(0, 0, 3) RMSE = 249.06\n",
      "ARIMA(0, 0, 4) RMSE = 175.85\n",
      "ARIMA(0, 1, 0) RMSE = 183.98\n",
      "ARIMA(0, 1, 1) RMSE = 201.63\n",
      "ARIMA(0, 1, 2) RMSE = 185.77\n",
      "ARIMA(0, 1, 3) RMSE = 203.63\n",
      "ARIMA(0, 1, 4) RMSE = 120.22\n",
      "ARIMA(0, 2, 0) RMSE = 184.44\n",
      "ARIMA(0, 2, 1) RMSE = 168.50\n",
      "ARIMA(0, 2, 2) RMSE = 155.64\n",
      "ARIMA(0, 2, 3) RMSE = 151.74\n",
      "ARIMA(1, 0, 0) RMSE = 247.30\n",
      "ARIMA(1, 0, 1) RMSE = 215.71\n",
      "ARIMA(1, 0, 2) RMSE = 209.58\n",
      "ARIMA(1, 0, 3) RMSE = 186.70\n",
      "ARIMA(1, 1, 0) RMSE = 178.01\n",
      "ARIMA(1, 1, 1) RMSE = 205.37\n",
      "ARIMA(1, 2, 0) RMSE = 137.28\n",
      "ARIMA(1, 2, 1) RMSE = 161.65\n",
      "ARIMA(2, 0, 0) RMSE = 212.72\n",
      "ARIMA(2, 0, 1) RMSE = 183.71\n",
      "ARIMA(2, 0, 4) RMSE = 161.79\n",
      "ARIMA(2, 1, 0) RMSE = 188.38\n",
      "ARIMA(2, 1, 1) RMSE = 199.08\n",
      "ARIMA(2, 1, 2) RMSE = 189.43\n",
      "ARIMA(2, 2, 0) RMSE = 184.46\n",
      "ARIMA(3, 0, 0) RMSE = 215.24\n",
      "ARIMA(3, 0, 2) RMSE = 1650.29\n",
      "ARIMA(3, 1, 0) RMSE = 148.41\n",
      "ARIMA(3, 1, 1) RMSE = 151.13\n",
      "ARIMA(3, 1, 2) RMSE = 134.52\n",
      "ARIMA(3, 1, 4) RMSE = 193.94\n",
      "ARIMA(3, 2, 0) RMSE = 157.15\n",
      "ARIMA(3, 2, 1) RMSE = 127.94\n",
      "ARIMA(3, 2, 2) RMSE = 125.71\n",
      "ARIMA(3, 2, 3) RMSE = 120.38\n",
      "ARIMA(4, 0, 0) RMSE = 182.30\n",
      "ARIMA(4, 0, 1) RMSE = 168.36\n",
      "ARIMA(4, 1, 0) RMSE = 149.46\n",
      "ARIMA(4, 1, 1) RMSE = 150.39\n",
      "ARIMA(4, 1, 2) RMSE = 138.49\n",
      "ARIMA(4, 1, 3) RMSE = 143.53\n",
      "ARIMA(4, 1, 4) RMSE = 138.94\n",
      "ARIMA(4, 2, 0) RMSE = 141.61\n",
      "ARIMA(4, 2, 1) RMSE = 124.79\n",
      "ARIMA(4, 2, 2) RMSE = 132.48\n",
      "ARIMA(4, 2, 3) RMSE = 127.10\n"
     ]
    }
   ],
   "source": [
    "import itertools\n",
    "\n",
    "pdq = list(itertools.product(p_values, d_values, q_values))\n",
    "for param in pdq:\n",
    "    predictions = []\n",
    "    for i in range(len(test)):\n",
    "        try:\n",
    "            model = ARIMA(train, order=param)\n",
    "            model_fit = model.fit()\n",
    "            pred = model_fit.forecast()[0]\n",
    "            predictions.append(pred)\n",
    "            error = np.sqrt(mean_squared_error(df_test, predictions))\n",
    "            print(\"ARIMA%s RMSE = %.2f\" % (param, error))\n",
    "        except:\n",
    "            continue"
   ]
  },
  {
   "cell_type": "markdown",
   "id": "31f36690",
   "metadata": {},
   "source": [
    "##### BaseLine model has error of 108 but our ARIMA model and the tuning paramters also couldn't perform better than baseline model, so for this case going with baseline model to predict the forcasting value is better.\n",
    "Some of things that could be done better.\n",
    "- Use different data transformation if it helps\n",
    "- Experiment with moving averages"
   ]
  },
  {
   "cell_type": "code",
   "execution_count": null,
   "id": "d14700dc",
   "metadata": {},
   "outputs": [],
   "source": []
  }
 ],
 "metadata": {
  "kernelspec": {
   "display_name": "Python 3",
   "language": "python",
   "name": "python3"
  },
  "language_info": {
   "codemirror_mode": {
    "name": "ipython",
    "version": 3
   },
   "file_extension": ".py",
   "mimetype": "text/x-python",
   "name": "python",
   "nbconvert_exporter": "python",
   "pygments_lexer": "ipython3",
   "version": "3.8.5"
  }
 },
 "nbformat": 4,
 "nbformat_minor": 5
}
